{
 "cells": [
  {
   "cell_type": "code",
   "execution_count": 3,
   "metadata": {
    "collapsed": true
   },
   "outputs": [],
   "source": [
    "import pandas as pd\n",
    "import numpy as np\n",
    "import pathlib\n",
    "import datetime\n",
    "import requests\n",
    "import os\n",
    "import AP_Apple_funcs as aaf\n",
    "\n",
    "from IPython.core.interactiveshell import InteractiveShell\n",
    "InteractiveShell.ast_node_interactivity = 'all'"
   ]
  },
  {
   "cell_type": "code",
   "execution_count": 5,
   "outputs": [],
   "source": [
    "ck_urls_path = aaf.convert_path(r\"C:\\Users\\CDT - Admin\\PycharmProjects\\AP_Apple_Meal_Recommendations\\CalorieKing_URLs.xlsx\")\n",
    "udf1 = pd.read_excel(ck_urls_path,sheet_name='2021_02_02')\n",
    "udf2 = pd.read_excel(ck_urls_path,sheet_name='Kroger')\n",
    "udf3 = pd.read_excel(ck_urls_path,sheet_name='2020_12_07')\n",
    "udf4 = pd.read_excel(ck_urls_path,sheet_name='2020_12_14')\n",
    "udf5 = pd.read_excel(ck_urls_path,sheet_name='Healthy Choice')\n",
    "udf6 = pd.read_excel(ck_urls_path,sheet_name='2021_02_03')\n",
    "udf7 = pd.read_excel(ck_urls_path,sheet_name='2021_03_22')\n",
    "udf8 = pd.read_excel(ck_urls_path,sheet_name='Hungry-Man')\n"
   ],
   "metadata": {
    "collapsed": false,
    "pycharm": {
     "name": "#%%\n"
    }
   }
  },
  {
   "cell_type": "code",
   "execution_count": 6,
   "outputs": [],
   "source": [
    "combined_urls = pd.concat([udf1,udf2,udf3,udf4,udf5,udf6,udf7,udf8],axis=0)"
   ],
   "metadata": {
    "collapsed": false,
    "pycharm": {
     "name": "#%%\n"
    }
   }
  },
  {
   "cell_type": "code",
   "execution_count": 7,
   "outputs": [
    {
     "data": {
      "text/plain": "(2179, 1)"
     },
     "execution_count": 7,
     "metadata": {},
     "output_type": "execute_result"
    },
    {
     "data": {
      "text/plain": "                                    calorieking_urls\n0  https://www.calorieking.com/us/en/foods/f/calo...\n1  https://www.calorieking.com/us/en/foods/f/calo...\n2  https://www.calorieking.com/us/en/foods/f/calo...\n3  https://www.calorieking.com/us/en/foods/f/calo...\n4  https://www.calorieking.com/us/en/foods/f/calo...",
      "text/html": "<div>\n<style scoped>\n    .dataframe tbody tr th:only-of-type {\n        vertical-align: middle;\n    }\n\n    .dataframe tbody tr th {\n        vertical-align: top;\n    }\n\n    .dataframe thead th {\n        text-align: right;\n    }\n</style>\n<table border=\"1\" class=\"dataframe\">\n  <thead>\n    <tr style=\"text-align: right;\">\n      <th></th>\n      <th>calorieking_urls</th>\n    </tr>\n  </thead>\n  <tbody>\n    <tr>\n      <th>0</th>\n      <td>https://www.calorieking.com/us/en/foods/f/calo...</td>\n    </tr>\n    <tr>\n      <th>1</th>\n      <td>https://www.calorieking.com/us/en/foods/f/calo...</td>\n    </tr>\n    <tr>\n      <th>2</th>\n      <td>https://www.calorieking.com/us/en/foods/f/calo...</td>\n    </tr>\n    <tr>\n      <th>3</th>\n      <td>https://www.calorieking.com/us/en/foods/f/calo...</td>\n    </tr>\n    <tr>\n      <th>4</th>\n      <td>https://www.calorieking.com/us/en/foods/f/calo...</td>\n    </tr>\n  </tbody>\n</table>\n</div>"
     },
     "execution_count": 7,
     "metadata": {},
     "output_type": "execute_result"
    }
   ],
   "source": [
    "combined_urls.shape\n",
    "combined_urls.head()\n"
   ],
   "metadata": {
    "collapsed": false,
    "pycharm": {
     "name": "#%%\n"
    }
   }
  },
  {
   "cell_type": "code",
   "execution_count": 9,
   "outputs": [],
   "source": [
    "combined_urls = combined_urls.drop_duplicates()"
   ],
   "metadata": {
    "collapsed": false,
    "pycharm": {
     "name": "#%%\n"
    }
   }
  },
  {
   "cell_type": "code",
   "execution_count": 10,
   "outputs": [],
   "source": [
    "combined_urls.to_csv('Combined_CK_URLs.csv',index=False)\n"
   ],
   "metadata": {
    "collapsed": false,
    "pycharm": {
     "name": "#%%\n"
    }
   }
  },
  {
   "cell_type": "code",
   "execution_count": null,
   "outputs": [],
   "source": [],
   "metadata": {
    "collapsed": false,
    "pycharm": {
     "name": "#%%\n"
    }
   }
  }
 ],
 "metadata": {
  "kernelspec": {
   "display_name": "Python 3",
   "language": "python",
   "name": "python3"
  },
  "language_info": {
   "codemirror_mode": {
    "name": "ipython",
    "version": 2
   },
   "file_extension": ".py",
   "mimetype": "text/x-python",
   "name": "python",
   "nbconvert_exporter": "python",
   "pygments_lexer": "ipython2",
   "version": "2.7.6"
  }
 },
 "nbformat": 4,
 "nbformat_minor": 0
}