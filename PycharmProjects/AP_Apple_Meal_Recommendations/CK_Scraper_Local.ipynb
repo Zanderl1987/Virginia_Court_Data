{
 "cells": [
  {
   "cell_type": "code",
   "execution_count": 2,
   "metadata": {
    "collapsed": true
   },
   "outputs": [],
   "source": [
    "import numpy as np\n",
    "import pandas as pd\n",
    "import requests\n",
    "import seaborn as sns\n",
    "import matplotlib.pyplot as plt\n",
    "import requests_html\n",
    "from requests_html import HTMLSession, AsyncHTMLSession\n",
    "import pathlib\n",
    "import time\n",
    "import datetime\n",
    "import random\n",
    "import os\n",
    "from tqdm import tqdm\n",
    "import altair as alt\n",
    "import AP_Apple_funcs as aaf\n",
    "\n",
    "sns.set(style='ticks')\n",
    "plt.style.use('dark_background') # use this if plotting in a dark themed notebook\n",
    "%matplotlib inline\n",
    "\n",
    "from IPython.core.interactiveshell import InteractiveShell\n",
    "InteractiveShell.ast_node_interactivity = 'all'"
   ]
  },
  {
   "cell_type": "code",
   "execution_count": 3,
   "outputs": [
    {
     "name": "stdout",
     "output_type": "stream",
     "text": [
      "With duplicates: 2065\n",
      "Without duplicates: 2065\n"
     ]
    }
   ],
   "source": [
    "url_dir_path = aaf.convert_path(r\"C:\\Users\\CDT - Admin\\PycharmProjects\\AP_Apple_Meal_Recommendations\\Combined_CK_URLs.csv\")\n",
    "\n",
    "combined_urls = pd.read_csv(url_dir_path)\n",
    "url_list = combined_urls['calorieking_urls'].tolist()\n",
    "\n",
    "url_s = pd.Series(url_list)\n",
    "print('With duplicates:', len(url_s))\n",
    "url_s = url_s.drop_duplicates()\n",
    "print('Without duplicates:',len(url_list))"
   ],
   "metadata": {
    "collapsed": false,
    "pycharm": {
     "name": "#%%\n"
    }
   }
  },
  {
   "cell_type": "code",
   "execution_count": 5,
   "outputs": [],
   "source": [
    "def scrape_data(url):\n",
    "\n",
    "    print('Pulling data...')\n",
    "\n",
    "    headers = {\n",
    "\n",
    "        'authority': 'UVA Center For Diabetes Technology (asl4af@virginia.edu)',\n",
    "        'dnt': '1',\n",
    "        'upgrade-insecure-requests': '1',\n",
    "        'user-agent': 'Mozilla/5.0 (Macintosh; Intel Mac OS X 10_15_4) AppleWebKit/537.36 (KHTML, like Gecko) Chrome/83.0.4103.61 Safari/537.36',\n",
    "        'accept': 'text/html,application/xhtml+xml,application/xml;q=0.9,image/webp,image/apng,*/*;q=0.8,application/signed-exchange;v=b3;q=0.9',\n",
    "        'sec-fetch-site': 'none',\n",
    "        'sec-fetch-mode': 'navigate',\n",
    "        'sec-fetch-user': '?1',\n",
    "        'sec-fetch-dest': 'document',\n",
    "        'accept-language': 'en-GB,en-US;q=0.9,en;q=0.8'}\n",
    "\n",
    "    session = HTMLSession()\n",
    "    r2 = session.get(url,headers=headers)\n",
    "\n",
    "    r = requests.get(url,headers)\n",
    "    ck_df = pd.read_html(r.text)\n",
    "    #ck_df[1]\n",
    "\n",
    "    nutrition_dict = {\n",
    "        'brand_name': r2.html.find('li:nth-of-type(5) a.MuiLink-underlineHover',first=True).text,\n",
    "        'meal_type': r2.html.find('li:nth-of-type(7) a',first=True).text,\n",
    "        'item_name': r2.html.find('a.jss367',first=True).text,\n",
    "        'serving_size': r2.html.find('.MuiInput-underline div',first=True).text,\n",
    "        'servings_per_container': r2.html.find('.MuiInput-underline input.MuiInputBase-input',first=True).text,\n",
    "        'metrics': ck_df[1][0],\n",
    "        'values': ck_df[1][1]}\n",
    "\n",
    "    nutrition_df = pd.DataFrame.from_dict(nutrition_dict)\n",
    "    nutrition_df['metrics'] = nutrition_df['metrics'].str.replace('\\d+','')\n",
    "    nutrition_df.iloc[0][4] = ck_df[1].iloc[0,0].split()[1]\n",
    "\n",
    "    nutrition_df_formatted = nutrition_df.pivot('item_name','metrics','values')\n",
    "    nutrition_df_formatted = nutrition_df_formatted.reset_index()\n",
    "    nutrition_df_formatted = nutrition_df_formatted.drop('% DV*',axis=1)\n",
    "    nutrition_df_formatted.columns = nutrition_df_formatted.columns.str.strip()\n",
    "    nutrition_df_formatted['Brand Name'] = nutrition_dict['brand_name']\n",
    "    nutrition_df_formatted['Meal Type'] = nutrition_dict['meal_type']\n",
    "    nutrition_df_formatted['Serving Size'] = nutrition_dict['serving_size']\n",
    "    nutrition_df_formatted['Servings Per Container'] = nutrition_dict['servings_per_container']\n",
    "    nutrition_df_formatted['Source URL'] = url\n",
    "\n",
    "    session.close()\n",
    "\n",
    "    output_dict = {'nutrition_df_formatted': nutrition_df_formatted,\n",
    "                  'nutrition_df': nutrition_df}\n",
    "\n",
    "    return output_dict"
   ],
   "metadata": {
    "collapsed": false,
    "pycharm": {
     "name": "#%%\n"
    }
   }
  },
  {
   "cell_type": "code",
   "execution_count": 12,
   "outputs": [
    {
     "name": "stderr",
     "output_type": "stream",
     "text": [
      "  0%|          | 0/2065 [00:00<?, ?it/s]<ipython-input-5-58d887be797b>:35: FutureWarning: The default value of regex will change from True to False in a future version.\n",
      "  nutrition_df['metrics'] = nutrition_df['metrics'].str.replace('\\d+','')\n",
      "  0%|          | 1/2065 [00:12<7:02:52, 12.29s/it]<ipython-input-5-58d887be797b>:35: FutureWarning: The default value of regex will change from True to False in a future version.\n",
      "  nutrition_df['metrics'] = nutrition_df['metrics'].str.replace('\\d+','')\n",
      "  0%|          | 1/2065 [00:24<13:54:08, 24.25s/it]\n"
     ]
    },
    {
     "name": "stdout",
     "output_type": "stream",
     "text": [
      "\n",
      "Scraping data for: https://www.calorieking.com/us/en/foods/f/calories-in-packaged-meals-homestyle-bakes-cheesy-chicken-alfredo/NN09Jb9cSemBAFpnXvJ_qw... \n",
      "\n",
      "Pulling data...\n",
      "metrics                               item_name Alcohol Calcium   Calories  \\\n",
      "0        Homestyle Bakes Cheesy Chicken Alfredo     0 g  150 mg  (1714 kJ)   \n",
      "\n",
      "metrics Cholesterol Dietary Fiber  Iron Protein Saturated Fat  Sodium  ...  \\\n",
      "0             35 mg           3 g  3 mg    15 g           7 g  880 mg  ...   \n",
      "\n",
      "metrics Total Carbohydrate Total Fat Trans Fat Vitamin A Vitamin C Brand Name  \\\n",
      "0                     40 g      21 g       0 g    200 mg      2 mg    Banquet   \n",
      "\n",
      "metrics       Meal Type      Serving Size Servings Per Container  \\\n",
      "0        Packaged Meals  serving (7.8 oz)                          \n",
      "\n",
      "metrics                                         Source URL  \n",
      "0        https://www.calorieking.com/us/en/foods/f/calo...  \n",
      "\n",
      "[1 rows x 21 columns] \n",
      "\n",
      "Percentage Complete: 0.048426150121065374\n",
      "Data pull complete going to sleep for 11 seconds... \n",
      "\n",
      "\n",
      "\n",
      "Scraping data for: https://www.calorieking.com/us/en/foods/f/calories-in-frozen-meals-chicken-fingers-dinner-frozen/yJkVmy99TcylUJ4wiHMvLw... \n",
      "\n",
      "Pulling data...\n",
      "metrics                       item_name Alcohol Calcium   Calories  \\\n",
      "0        Chicken Fingers Dinner, frozen     0 g   80 mg  (2006 kJ)   \n",
      "\n",
      "metrics Cholesterol Dietary Fiber  Iron Potassium Protein Saturated Fat  ...  \\\n",
      "0             50 mg           5 g  3 mg    420 mg    17 g         4.5 g  ...   \n",
      "\n",
      "metrics Total Carbohydrate Total Fat Trans Fat Vitamin A Vitamin C Brand Name  \\\n",
      "0                     56 g      21 g       0 g    300 mg      0 mg    Banquet   \n",
      "\n",
      "metrics     Meal Type   Serving Size Servings Per Container  \\\n",
      "0        Frozen Meals  meal (7.1 oz)                          \n",
      "\n",
      "metrics                                         Source URL  \n",
      "0        https://www.calorieking.com/us/en/foods/f/calo...  \n",
      "\n",
      "[1 rows x 22 columns] \n",
      "\n",
      "Percentage Complete: 0.09685230024213075\n",
      "Data pull complete going to sleep for 11 seconds... \n",
      "\n"
     ]
    },
    {
     "ename": "KeyboardInterrupt",
     "evalue": "",
     "output_type": "error",
     "traceback": [
      "\u001B[1;31m---------------------------------------------------------------------------\u001B[0m",
      "\u001B[1;31mKeyboardInterrupt\u001B[0m                         Traceback (most recent call last)",
      "\u001B[1;32m<ipython-input-12-bb6855b6f0bc>\u001B[0m in \u001B[0;36m<module>\u001B[1;34m\u001B[0m\n\u001B[0;32m     18\u001B[0m \u001B[1;33m\u001B[0m\u001B[0m\n\u001B[0;32m     19\u001B[0m   \u001B[0mprint\u001B[0m\u001B[1;33m(\u001B[0m\u001B[1;34mf\"Data pull complete going to sleep for {sleep_time_varying} seconds...\"\u001B[0m\u001B[1;33m,\u001B[0m\u001B[1;34m'\\n'\u001B[0m\u001B[1;33m)\u001B[0m\u001B[1;33m\u001B[0m\u001B[1;33m\u001B[0m\u001B[0m\n\u001B[1;32m---> 20\u001B[1;33m   \u001B[0mtime\u001B[0m\u001B[1;33m.\u001B[0m\u001B[0msleep\u001B[0m\u001B[1;33m(\u001B[0m\u001B[0msleep_time_varying\u001B[0m\u001B[1;33m)\u001B[0m\u001B[1;33m\u001B[0m\u001B[1;33m\u001B[0m\u001B[0m\n\u001B[0m\u001B[0;32m     21\u001B[0m   \u001B[0mprint\u001B[0m\u001B[1;33m(\u001B[0m\u001B[1;33m)\u001B[0m\u001B[1;33m\u001B[0m\u001B[1;33m\u001B[0m\u001B[0m\n\u001B[0;32m     22\u001B[0m \u001B[1;33m\u001B[0m\u001B[0m\n",
      "\u001B[1;31mKeyboardInterrupt\u001B[0m: "
     ]
    }
   ],
   "source": [
    "web_data_list = []\n",
    "formatted_list = []\n",
    "\n",
    "for link in tqdm(url_list):\n",
    "\n",
    "  sleep_time_varying = random.randint(7,13)\n",
    "  print()\n",
    "  print(f\"Scraping data for: {link}...\",'\\n')\n",
    "\n",
    "  wb_data = scrape_data(link)\n",
    "  web_data_list.append(wb_data)\n",
    "  formatted_list.append(wb_data['nutrition_df_formatted'])\n",
    "  #print(wb_data)\n",
    "  #print(formated_list)\n",
    "  print(wb_data['nutrition_df_formatted'],'\\n')\n",
    "\n",
    "  print(f\"Percentage Complete: {(len(formatted_list) / len(url_list)) * 100}\")\n",
    "\n",
    "  print(f\"Data pull complete going to sleep for {sleep_time_varying} seconds...\",'\\n')\n",
    "  time.sleep(sleep_time_varying)\n"
   ],
   "metadata": {
    "collapsed": false,
    "pycharm": {
     "name": "#%%\n"
    }
   }
  },
  {
   "cell_type": "code",
   "execution_count": null,
   "outputs": [],
   "source": [
    "fmt_df = pd.concat(formatted_list)\n",
    "fmt_df.shape\n",
    "fmt_df.head()"
   ],
   "metadata": {
    "collapsed": false,
    "pycharm": {
     "name": "#%%\n"
    }
   }
  },
  {
   "cell_type": "code",
   "execution_count": null,
   "outputs": [],
   "source": [
    "output_file_name = f\"CalorieKing_nutrition_data_20210323_{random.randint(0,5000)}.csv\"\n",
    "fmt_df.to_csv(output_file_name,index=False)\n",
    "\n",
    "# STOP HERE AND WE WILL PREPROCESS THE DATA IN THE NEXT STEP\n"
   ],
   "metadata": {
    "collapsed": false,
    "pycharm": {
     "name": "#%%\n"
    }
   }
  }
 ],
 "metadata": {
  "kernelspec": {
   "display_name": "Python 3",
   "language": "python",
   "name": "python3"
  },
  "language_info": {
   "codemirror_mode": {
    "name": "ipython",
    "version": 2
   },
   "file_extension": ".py",
   "mimetype": "text/x-python",
   "name": "python",
   "nbconvert_exporter": "python",
   "pygments_lexer": "ipython2",
   "version": "2.7.6"
  }
 },
 "nbformat": 4,
 "nbformat_minor": 0
}