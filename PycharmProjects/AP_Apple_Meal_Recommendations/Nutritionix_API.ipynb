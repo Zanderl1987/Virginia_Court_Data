{
 "cells": [
  {
   "cell_type": "code",
   "execution_count": 24,
   "metadata": {
    "collapsed": true
   },
   "outputs": [],
   "source": [
    "import pandas as pd\n",
    "import numpy as np\n",
    "import pathlib\n",
    "import datetime\n",
    "import requests\n",
    "from nutritionix import Nutritionix\n",
    "\n",
    "\n",
    "from IPython.core.interactiveshell import InteractiveShell\n",
    "InteractiveShell.ast_node_interactivity = 'all'\n",
    "\n",
    "\n",
    "def convert_path(file_path):\n",
    "    fp = pathlib.PureWindowsPath(file_path).as_posix()\n",
    "\n",
    "    return fp\n",
    "\n",
    "\n",
    "def flatten_json(y):\n",
    "  out = {}\n",
    "\n",
    "  def flatten(x, name=''):\n",
    "    if type(x) is dict:\n",
    "      for a in x:\n",
    "        flatten(x[a], name + a + '_')\n",
    "    elif type(x) is list:\n",
    "      i = 0\n",
    "      for a in x:\n",
    "        flatten(a, name + str(i) + '_')\n",
    "    else:\n",
    "      out[name[:-1]] = x\n",
    "\n",
    "  flatten(y)\n",
    "  return out"
   ]
  },
  {
   "cell_type": "code",
   "execution_count": 6,
   "outputs": [],
   "source": [
    "nix = Nutritionix(app_id=\"a810ab22\",api_key=\"74ceb09e2b19af0098f536dde1020f5a\")"
   ],
   "metadata": {
    "collapsed": false,
    "pycharm": {
     "name": "#%%\n"
    }
   }
  },
  {
   "cell_type": "code",
   "execution_count": 48,
   "outputs": [
    {
     "data": {
      "text/plain": "{'total_hits': 463,\n 'max_score': 3.3193083,\n 'hits': [{'_index': 'f762ef22-e660-434f-9071-a10ea6691c27',\n   '_type': 'item',\n   '_id': '51c36f6697c3e69de4b09ac0',\n   '_score': 3.3193083,\n   'fields': {'item_id': '51c36f6697c3e69de4b09ac0',\n    'item_name': 'Select Recipes Classic Fried Chicken',\n    'brand_name': 'Banquet',\n    'nf_serving_size_qty': 1,\n    'nf_serving_size_unit': 'serving'}},\n  {'_index': 'f762ef22-e660-434f-9071-a10ea6691c27',\n   '_type': 'item',\n   '_id': '51c36f7697c3e69de4b09b46',\n   '_score': 3.3193083,\n   'fields': {'item_id': '51c36f7697c3e69de4b09b46',\n    'item_name': 'Breadsticks, Cheese & Ham Stuffed, with Cheesy Bacon Dipping Sauce',\n    'brand_name': 'Banquet',\n    'nf_serving_size_qty': 1,\n    'nf_serving_size_unit': 'serving'}},\n  {'_index': 'f762ef22-e660-434f-9071-a10ea6691c27',\n   '_type': 'item',\n   '_id': '51c4012397c3e6dfa4df3bdb',\n   '_score': 3.3193083,\n   'fields': {'item_id': '51c4012397c3e6dfa4df3bdb',\n    'item_name': 'Pasta & Meatballs in Marinara Sauce',\n    'brand_name': 'Banquet',\n    'nf_serving_size_qty': 1,\n    'nf_serving_size_unit': 'serving'}},\n  {'_index': 'f762ef22-e660-434f-9071-a10ea6691c27',\n   '_type': 'item',\n   '_id': '51c5436f97c3e6efadd5cf31',\n   '_score': 3.3193083,\n   'fields': {'item_id': '51c5436f97c3e6efadd5cf31',\n    'item_name': 'Chicken Breast Tenders, W/Rib Meat',\n    'brand_name': 'Banquet',\n    'nf_serving_size_qty': 1,\n    'nf_serving_size_unit': 'serving'}},\n  {'_index': 'f762ef22-e660-434f-9071-a10ea6691c27',\n   '_type': 'item',\n   '_id': '51c5455e97c3e6efadd5debd',\n   '_score': 3.3193083,\n   'fields': {'item_id': '51c5455e97c3e6efadd5debd',\n    'item_name': 'Chicken Breast Nuggets, W/Rib Meat',\n    'brand_name': 'Banquet',\n    'nf_serving_size_qty': 1,\n    'nf_serving_size_unit': 'serving'}},\n  {'_index': 'f762ef22-e660-434f-9071-a10ea6691c27',\n   '_type': 'item',\n   '_id': '51d2f7decc9bff111580c52c',\n   '_score': 3.3193083,\n   'fields': {'item_id': '51d2f7decc9bff111580c52c',\n    'item_name': 'Swedish Meatballs, with Egg Noodles and Sauce',\n    'brand_name': 'Banquet',\n    'nf_serving_size_qty': 1,\n    'nf_serving_size_unit': 'serving'}},\n  {'_index': 'f762ef22-e660-434f-9071-a10ea6691c27',\n   '_type': 'item',\n   '_id': '51d2fa67cc9bff111580d56d',\n   '_score': 3.3193083,\n   'fields': {'item_id': '51d2fa67cc9bff111580d56d',\n    'item_name': 'Sausage Links, Fully Cooked, Lite Original',\n    'brand_name': 'Banquet',\n    'nf_serving_size_qty': 1,\n    'nf_serving_size_unit': 'serving'}},\n  {'_index': 'f762ef22-e660-434f-9071-a10ea6691c27',\n   '_type': 'item',\n   '_id': '51d2fcf8cc9bff111580e73f',\n   '_score': 3.3193083,\n   'fields': {'item_id': '51d2fcf8cc9bff111580e73f',\n    'item_name': 'Chicken Pot Pie',\n    'brand_name': 'Banquet',\n    'nf_serving_size_qty': 1,\n    'nf_serving_size_unit': 'serving'}},\n  {'_index': 'f762ef22-e660-434f-9071-a10ea6691c27',\n   '_type': 'item',\n   '_id': '51d2fcf8cc9bff111580e741',\n   '_score': 3.3193083,\n   'fields': {'item_id': '51d2fcf8cc9bff111580e741',\n    'item_name': 'Turkey Pot Pie',\n    'brand_name': 'Banquet',\n    'nf_serving_size_qty': 1,\n    'nf_serving_size_unit': 'serving'}},\n  {'_index': 'f762ef22-e660-434f-9071-a10ea6691c27',\n   '_type': 'item',\n   '_id': '51d2fd09cc9bff111580e794',\n   '_score': 3.3193083,\n   'fields': {'item_id': '51d2fd09cc9bff111580e794',\n    'item_name': 'Chicken Fried Beef Steak Meal',\n    'brand_name': 'Banquet',\n    'nf_serving_size_qty': 1,\n    'nf_serving_size_unit': 'serving'}}]}"
     },
     "execution_count": 48,
     "metadata": {},
     "output_type": "execute_result"
    }
   ],
   "source": [
    "results = nix.search('banquet').json()\n",
    "results"
   ],
   "metadata": {
    "collapsed": false,
    "pycharm": {
     "name": "#%%\n"
    }
   }
  },
  {
   "cell_type": "code",
   "execution_count": 42,
   "outputs": [
    {
     "data": {
      "text/plain": "{'old_api_id': None,\n 'item_id': '51c36f6097c3e69de4b09a88',\n 'item_name': 'Beef Pot Pie',\n 'leg_loc_id': None,\n 'brand_id': '51db37b8176fe9790a898b00',\n 'brand_name': 'Banquet',\n 'item_description': 'Beef',\n 'updated_at': '2020-07-20T17:01:36.000Z',\n 'nf_ingredient_statement': 'Filling: Beef Gravy (Water, Seasoned Cooked Beef [Beef, Hydrolyzed Soy Protein, Garlic Juice, Salt], Contains 2% or Less of the Following: Modified Food Starch, Wheat Flour, Hydrolyzed Soy Protein, Salt, Caramel Color, Sugar, Tomato Paste, Flavorings), Cooked Beef (Beef, Salt, Flavoring), Potatoes (Calcium Chloride), Carrots, Peas, Crust: Wheat Flour, Shortening (BHT), Water, Dextrose, Salt, Maillose (Water, Caramel Color).',\n 'nf_water_grams': None,\n 'nf_calories': 410,\n 'nf_calories_from_fat': 0,\n 'nf_total_fat': 26,\n 'nf_saturated_fat': 12,\n 'nf_trans_fatty_acid': 0,\n 'nf_polyunsaturated_fat': None,\n 'nf_monounsaturated_fat': None,\n 'nf_cholesterol': 35,\n 'nf_sodium': 710,\n 'nf_total_carbohydrate': 35,\n 'nf_dietary_fiber': 1,\n 'nf_sugars': 3,\n 'nf_protein': 8,\n 'nf_vitamin_a_dv': None,\n 'nf_vitamin_c_dv': None,\n 'nf_calcium_dv': 0,\n 'nf_iron_dv': 0.8,\n 'nf_refuse_pct': None,\n 'nf_servings_per_container': None,\n 'nf_serving_size_qty': 1,\n 'nf_serving_size_unit': 'pie',\n 'nf_serving_weight_grams': 198,\n 'allergen_contains_milk': None,\n 'allergen_contains_eggs': None,\n 'allergen_contains_fish': None,\n 'allergen_contains_shellfish': None,\n 'allergen_contains_tree_nuts': None,\n 'allergen_contains_peanuts': None,\n 'allergen_contains_wheat': None,\n 'allergen_contains_soybeans': None,\n 'allergen_contains_gluten': None,\n 'usda_fields': None}"
     },
     "execution_count": 42,
     "metadata": {},
     "output_type": "execute_result"
    }
   ],
   "source": [
    "item_result = nix.item(id='51c36f6097c3e69de4b09a88').json()\n",
    "item_result"
   ],
   "metadata": {
    "collapsed": false,
    "pycharm": {
     "name": "#%%\n"
    }
   }
  },
  {
   "cell_type": "code",
   "execution_count": 32,
   "outputs": [
    {
     "data": {
      "text/plain": "{'old_api_id': None,\n 'item_id': '55267dcb5f2b19755cb5e404',\n 'item_name': 'Fried Chicken',\n 'leg_loc_id': None,\n 'brand_id': '51db381b176fe9790a89b570',\n 'brand_name': 'Hungry-Man',\n 'item_description': None,\n 'updated_at': '2017-10-30T05:52:40.000Z',\n 'nf_ingredient_statement': 'Fried Chicken Portion White (Chicken Breast with Rib Meat, Chicken Stock, Enriched Wheat Flour [Wheat Flour, Niacin, Reduced Iron, Thiamine Mononitrate, Riboflavin, Folic Acid], Soybean Oil, Soy Protein Isolate, Salt, Sodium Phosphates, Monosodium Glutamate), Fried Chicken Portion Dark (Chicken, Chicken Stock, Enriched Wheat Flour [Wheat Flour, Niacin, Reduced Iron, Thiamine Mononitrate, Riboflavin, Folic Acid], Soybean Oil, Soy Protein Isolate, Salt, Sodium Phosphates, Monosodium Glutamate), Mashed Potatoes (Water, Dehydrated Potato Flakes [Potatoes, Mono and Diglycerides, Sodium Acid Pyrophosphate, Citric Acid], Seasoning Sauce [Soybean Oil, Water, Mono and Diglycerides with BHT and Citric Acid to Protect Flavor, Beta-Carotene for Color (Corn Oil, DL-Alpha-Tocopherol)], {Contains Less than 2% of: Salt, Dried Dairy Blend [Whey, Calcium Caseinate]), Corn, Brownie (Sugar, Water, Enriched Wheat Flour [Wheat Flour, Niacin, Reduced Iron, Thiamine Mononitrate, Riboflavin, Folic Acid], Soybean Oil, Cocoa, Eggs, Seasoning Sauce [Soybean Oil, Water, Mono and Diglycerides with BHT and Citric Acid to Protect Flavor, Beta-Carotene for Color (Corn Oil, DL-Alpha-Tocopherol)], Acacia and Xanthan Gums, Sodium Bicarbonate [Hydrogenated Vegetable Oil], Salt, Natural and Artificial Flavor [Natural and Artificial Flavor, Caramel Color, Vanilla Extractives]), Seasoning Sauce (Water, Sugar, Seasoning Sauce [Soybean Oil, Water, Mono and Diglycerides with BHT and Citric Acid to Protect Flavor, Beta-Carotene for Color (Corn Oil, DL-Alpha-Tocopherol)], Salt, Soybean Oil), Contains 2% or Less of: Seasoning Sauce (Soybean Oil, Water, Mono and Diglycerides with BHT and Citric Acid to Protect Flavor, Beta-Carotene for Color [Corn Oil, DL-Alpha-Tocopherol]).',\n 'nf_water_grams': None,\n 'nf_calories': 680,\n 'nf_calories_from_fat': 0,\n 'nf_total_fat': 34,\n 'nf_saturated_fat': 10,\n 'nf_trans_fatty_acid': 4,\n 'nf_polyunsaturated_fat': None,\n 'nf_monounsaturated_fat': None,\n 'nf_cholesterol': 75,\n 'nf_sodium': 1010,\n 'nf_total_carbohydrate': 66,\n 'nf_dietary_fiber': 5,\n 'nf_sugars': 16,\n 'nf_protein': 30,\n 'nf_vitamin_a_dv': 10,\n 'nf_vitamin_c_dv': 15,\n 'nf_calcium_dv': 10,\n 'nf_iron_dv': 30,\n 'nf_refuse_pct': None,\n 'nf_servings_per_container': None,\n 'nf_serving_size_qty': 1,\n 'nf_serving_size_unit': 'package',\n 'nf_serving_weight_grams': 360,\n 'allergen_contains_milk': None,\n 'allergen_contains_eggs': None,\n 'allergen_contains_fish': None,\n 'allergen_contains_shellfish': None,\n 'allergen_contains_tree_nuts': None,\n 'allergen_contains_peanuts': None,\n 'allergen_contains_wheat': None,\n 'allergen_contains_soybeans': None,\n 'allergen_contains_gluten': None,\n 'usda_fields': None}"
     },
     "execution_count": 32,
     "metadata": {},
     "output_type": "execute_result"
    }
   ],
   "source": [
    "#item_result = flatten_json(item_result)\n",
    "#item_df = pd.json_normalize(item_result)\n",
    "item_result"
   ],
   "metadata": {
    "collapsed": false,
    "pycharm": {
     "name": "#%%\n"
    }
   }
  },
  {
   "cell_type": "code",
   "execution_count": 26,
   "outputs": [
    {
     "data": {
      "text/plain": "  old_api_id                   item_id      item_name leg_loc_id  \\\n0       None  55267dcb5f2b19755cb5e404  Fried Chicken       None   \n\n                   brand_id  brand_name item_description  \\\n0  51db381b176fe9790a89b570  Hungry-Man             None   \n\n                 updated_at  \\\n0  2017-10-30T05:52:40.000Z   \n\n                             nf_ingredient_statement nf_water_grams  ...  \\\n0  Fried Chicken Portion White (Chicken Breast wi...           None  ...   \n\n   allergen_contains_milk  allergen_contains_eggs  allergen_contains_fish  \\\n0                    None                    None                    None   \n\n   allergen_contains_shellfish  allergen_contains_tree_nuts  \\\n0                         None                         None   \n\n  allergen_contains_peanuts allergen_contains_wheat  \\\n0                      None                    None   \n\n   allergen_contains_soybeans  allergen_contains_gluten  usda_fields  \n0                        None                      None         None  \n\n[1 rows x 42 columns]",
      "text/html": "<div>\n<style scoped>\n    .dataframe tbody tr th:only-of-type {\n        vertical-align: middle;\n    }\n\n    .dataframe tbody tr th {\n        vertical-align: top;\n    }\n\n    .dataframe thead th {\n        text-align: right;\n    }\n</style>\n<table border=\"1\" class=\"dataframe\">\n  <thead>\n    <tr style=\"text-align: right;\">\n      <th></th>\n      <th>old_api_id</th>\n      <th>item_id</th>\n      <th>item_name</th>\n      <th>leg_loc_id</th>\n      <th>brand_id</th>\n      <th>brand_name</th>\n      <th>item_description</th>\n      <th>updated_at</th>\n      <th>nf_ingredient_statement</th>\n      <th>nf_water_grams</th>\n      <th>...</th>\n      <th>allergen_contains_milk</th>\n      <th>allergen_contains_eggs</th>\n      <th>allergen_contains_fish</th>\n      <th>allergen_contains_shellfish</th>\n      <th>allergen_contains_tree_nuts</th>\n      <th>allergen_contains_peanuts</th>\n      <th>allergen_contains_wheat</th>\n      <th>allergen_contains_soybeans</th>\n      <th>allergen_contains_gluten</th>\n      <th>usda_fields</th>\n    </tr>\n  </thead>\n  <tbody>\n    <tr>\n      <th>0</th>\n      <td>None</td>\n      <td>55267dcb5f2b19755cb5e404</td>\n      <td>Fried Chicken</td>\n      <td>None</td>\n      <td>51db381b176fe9790a89b570</td>\n      <td>Hungry-Man</td>\n      <td>None</td>\n      <td>2017-10-30T05:52:40.000Z</td>\n      <td>Fried Chicken Portion White (Chicken Breast wi...</td>\n      <td>None</td>\n      <td>...</td>\n      <td>None</td>\n      <td>None</td>\n      <td>None</td>\n      <td>None</td>\n      <td>None</td>\n      <td>None</td>\n      <td>None</td>\n      <td>None</td>\n      <td>None</td>\n      <td>None</td>\n    </tr>\n  </tbody>\n</table>\n<p>1 rows × 42 columns</p>\n</div>"
     },
     "execution_count": 26,
     "metadata": {},
     "output_type": "execute_result"
    }
   ],
   "source": [
    "item_df"
   ],
   "metadata": {
    "collapsed": false,
    "pycharm": {
     "name": "#%%\n"
    }
   }
  },
  {
   "cell_type": "code",
   "execution_count": 29,
   "outputs": [
    {
     "data": {
      "text/plain": "   total_hits  max_score                         hits_0__index hits_0__type  \\\n0       14322   2.231684  f762ef22-e660-434f-9071-a10ea6691c27         item   \n\n                 hits_0__id  hits_0__score     hits_0_fields_item_id  \\\n0  51c369a097c3e69de4b06c33       2.086824  51c369a097c3e69de4b06c33   \n\n                  hits_0_fields_item_name hits_0_fields_brand_name  \\\n0  Delicious Waters with Chocolate Flavor                      Man   \n\n   hits_0_fields_nf_serving_size_qty hits_0_fields_nf_serving_size_unit  \n0                                  1                            serving  ",
      "text/html": "<div>\n<style scoped>\n    .dataframe tbody tr th:only-of-type {\n        vertical-align: middle;\n    }\n\n    .dataframe tbody tr th {\n        vertical-align: top;\n    }\n\n    .dataframe thead th {\n        text-align: right;\n    }\n</style>\n<table border=\"1\" class=\"dataframe\">\n  <thead>\n    <tr style=\"text-align: right;\">\n      <th></th>\n      <th>total_hits</th>\n      <th>max_score</th>\n      <th>hits_0__index</th>\n      <th>hits_0__type</th>\n      <th>hits_0__id</th>\n      <th>hits_0__score</th>\n      <th>hits_0_fields_item_id</th>\n      <th>hits_0_fields_item_name</th>\n      <th>hits_0_fields_brand_name</th>\n      <th>hits_0_fields_nf_serving_size_qty</th>\n      <th>hits_0_fields_nf_serving_size_unit</th>\n    </tr>\n  </thead>\n  <tbody>\n    <tr>\n      <th>0</th>\n      <td>14322</td>\n      <td>2.231684</td>\n      <td>f762ef22-e660-434f-9071-a10ea6691c27</td>\n      <td>item</td>\n      <td>51c369a097c3e69de4b06c33</td>\n      <td>2.086824</td>\n      <td>51c369a097c3e69de4b06c33</td>\n      <td>Delicious Waters with Chocolate Flavor</td>\n      <td>Man</td>\n      <td>1</td>\n      <td>serving</td>\n    </tr>\n  </tbody>\n</table>\n</div>"
     },
     "execution_count": 29,
     "metadata": {},
     "output_type": "execute_result"
    }
   ],
   "source": [
    "results_flattened = flatten_json(results)\n",
    "brand_df = pd.json_normalize(results_flattened)\n",
    "brand_df"
   ],
   "metadata": {
    "collapsed": false,
    "pycharm": {
     "name": "#%%\n"
    }
   }
  },
  {
   "cell_type": "code",
   "execution_count": 34,
   "outputs": [
    {
     "data": {
      "text/plain": "{'total_hits': 14322,\n 'max_score': 2.2316844,\n 'hits_0__index': 'f762ef22-e660-434f-9071-a10ea6691c27',\n 'hits_0__type': 'item',\n 'hits_0__id': '51c369a097c3e69de4b06c33',\n 'hits_0__score': 2.086824,\n 'hits_0_fields_item_id': '51c369a097c3e69de4b06c33',\n 'hits_0_fields_item_name': 'Delicious Waters with Chocolate Flavor',\n 'hits_0_fields_brand_name': 'Man',\n 'hits_0_fields_nf_serving_size_qty': 1,\n 'hits_0_fields_nf_serving_size_unit': 'serving'}"
     },
     "execution_count": 34,
     "metadata": {},
     "output_type": "execute_result"
    }
   ],
   "source": [],
   "metadata": {
    "collapsed": false,
    "pycharm": {
     "name": "#%%\n"
    }
   }
  },
  {
   "cell_type": "code",
   "execution_count": 47,
   "outputs": [
    {
     "data": {
      "text/plain": "{'total': 0, 'max_score': None, 'hits': []}"
     },
     "execution_count": 47,
     "metadata": {},
     "output_type": "execute_result"
    }
   ],
   "source": [
    "brand_result = nix.brand().search(query='bandquet').json()\n",
    "brand_result\n",
    "#banquet['hits']"
   ],
   "metadata": {
    "collapsed": false,
    "pycharm": {
     "name": "#%%\n"
    }
   }
  },
  {
   "cell_type": "code",
   "execution_count": 41,
   "outputs": [
    {
     "data": {
      "text/plain": "[{'_index': 'f762ef22-e660-434f-9071-a10ea6691c27',\n  '_type': 'item',\n  '_id': '57bd464523b94873191f89f7',\n  '_score': 2.1732192,\n  'fields': {'item_id': '57bd464523b94873191f89f7',\n   'item_name': 'Backyard Barbeque',\n   'brand_name': 'Hungry-Man',\n   'nf_serving_size_qty': 1,\n   'nf_serving_size_unit': 'serving'}},\n {'_index': 'f762ef22-e660-434f-9071-a10ea6691c27',\n  '_type': 'item',\n  '_id': '58159af511508d4c40cf6b84',\n  '_score': 2.1732192,\n  'fields': {'item_id': '58159af511508d4c40cf6b84',\n   'item_name': 'Fajita Chicken',\n   'brand_name': 'Hungry-Man',\n   'nf_serving_size_qty': 1,\n   'nf_serving_size_unit': 'serving'}},\n {'_index': 'f762ef22-e660-434f-9071-a10ea6691c27',\n  '_type': 'item',\n  '_id': '51d2fd02cc9bff111580e770',\n  '_score': 2.1732192,\n  'fields': {'item_id': '51d2fd02cc9bff111580e770',\n   'item_name': 'Salisbury Steak',\n   'brand_name': 'Hungry-Man',\n   'nf_serving_size_qty': 1,\n   'nf_serving_size_unit': 'serving'}},\n {'_index': 'f762ef22-e660-434f-9071-a10ea6691c27',\n  '_type': 'item',\n  '_id': 'ddee1044b6cf3d16ea868bd3',\n  '_score': 2.1731791,\n  'fields': {'item_id': 'ddee1044b6cf3d16ea868bd3',\n   'item_name': 'HUNGRY MAN, Salisbury Steak With Gravy, frozen, unprepared - 1 patty',\n   'brand_name': 'USDA',\n   'nf_serving_size_qty': 1,\n   'nf_serving_size_unit': 'serving'}},\n {'_index': 'f762ef22-e660-434f-9071-a10ea6691c27',\n  '_type': 'item',\n  '_id': '55267dcb5f2b19755cb5e404',\n  '_score': 2.1653588,\n  'fields': {'item_id': '55267dcb5f2b19755cb5e404',\n   'item_name': 'Fried Chicken',\n   'brand_name': 'Hungry-Man',\n   'nf_serving_size_qty': 1,\n   'nf_serving_size_unit': 'serving'}},\n {'_index': 'f762ef22-e660-434f-9071-a10ea6691c27',\n  '_type': 'item',\n  '_id': '51d2f7cfcc9bff111580c4e0',\n  '_score': 2.1019022,\n  'fields': {'item_id': '51d2f7cfcc9bff111580c4e0',\n   'item_name': 'Meatloaf',\n   'brand_name': 'Hungry-Man',\n   'nf_serving_size_qty': 1,\n   'nf_serving_size_unit': 'serving'}},\n {'_index': 'f762ef22-e660-434f-9071-a10ea6691c27',\n  '_type': 'item',\n  '_id': '546a08d7eda64c0d6205643e',\n  '_score': 2.1019022,\n  'fields': {'item_id': '546a08d7eda64c0d6205643e',\n   'item_name': 'Pulled Pork',\n   'brand_name': 'Hungry-Man',\n   'nf_serving_size_qty': 1,\n   'nf_serving_size_unit': 'serving'}},\n {'_index': 'f762ef22-e660-434f-9071-a10ea6691c27',\n  '_type': 'item',\n  '_id': '55188a46081a841b29e8a5c8',\n  '_score': 2.1019022,\n  'fields': {'item_id': '55188a46081a841b29e8a5c8',\n   'item_name': 'Pub Favourites',\n   'brand_name': 'Hungry-Man',\n   'nf_serving_size_qty': 1,\n   'nf_serving_size_unit': 'serving'}},\n {'_index': 'f762ef22-e660-434f-9071-a10ea6691c27',\n  '_type': 'item',\n  '_id': '5c67bce2b359401567a839e3',\n  '_score': 2.1019022,\n  'fields': {'item_id': '5c67bce2b359401567a839e3',\n   'item_name': 'Turkey',\n   'brand_name': 'Hungry-Man',\n   'nf_serving_size_qty': 1,\n   'nf_serving_size_unit': 'serving'}},\n {'_index': 'f762ef22-e660-434f-9071-a10ea6691c27',\n  '_type': 'item',\n  '_id': '51c369a097c3e69de4b06c33',\n  '_score': 2.0724044,\n  'fields': {'item_id': '51c369a097c3e69de4b06c33',\n   'item_name': 'Delicious Waters with Chocolate Flavor',\n   'brand_name': 'Man',\n   'nf_serving_size_qty': 1,\n   'nf_serving_size_unit': 'serving'}}]"
     },
     "execution_count": 41,
     "metadata": {},
     "output_type": "execute_result"
    }
   ],
   "source": [],
   "metadata": {
    "collapsed": false,
    "pycharm": {
     "name": "#%%\n"
    }
   }
  },
  {
   "cell_type": "code",
   "execution_count": null,
   "outputs": [],
   "source": [],
   "metadata": {
    "collapsed": false,
    "pycharm": {
     "name": "#%%\n"
    }
   }
  }
 ],
 "metadata": {
  "kernelspec": {
   "display_name": "Python 3",
   "language": "python",
   "name": "python3"
  },
  "language_info": {
   "codemirror_mode": {
    "name": "ipython",
    "version": 2
   },
   "file_extension": ".py",
   "mimetype": "text/x-python",
   "name": "python",
   "nbconvert_exporter": "python",
   "pygments_lexer": "ipython2",
   "version": "2.7.6"
  }
 },
 "nbformat": 4,
 "nbformat_minor": 0
}