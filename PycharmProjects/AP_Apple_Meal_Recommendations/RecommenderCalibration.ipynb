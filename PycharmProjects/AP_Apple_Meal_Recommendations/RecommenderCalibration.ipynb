{
 "cells": [
  {
   "cell_type": "code",
   "execution_count": 1,
   "metadata": {
    "collapsed": true
   },
   "outputs": [
    {
     "data": {
      "text/plain": "                                           item_name Alcohol Calcium  \\\n0             Homestyle Bakes Cheesy Chicken Alfredo     0 g  150 mg   \n1                     Chicken Fingers Dinner, frozen     0 g   80 mg   \n2                     Original Fried Chicken, frozen     0 g   20 mg   \n3              Vegetarian Cheesy Bean & Rice Burrito     NaN  150 mg   \n4  Green Goddess Cobb Salad, with Chicken & Green...     0 g     NaN   \n\n   Calories Cholesterol Dietary Fiber  Iron Protein Saturated Fat  Sodium  \\\n0       410       35 mg           3 g  3 mg    15 g           7 g  880 mg   \n1       479       50 mg           5 g  3 mg    17 g         4.5 g  700 mg   \n2       330       75 mg         0.5 g  1 mg    24 g           5 g  890 mg   \n3       410        5 mg           7 g  4 mg    10 g           4 g  880 mg   \n4       550      290 mg           7 g   NaN    42 g           8 g  720 mg   \n\n   ... Trans Fat_values Trans Fat_units Monounsaturated Fat_values  \\\n0  ...              0.0               g                        NaN   \n1  ...              0.0               g                        NaN   \n2  ...              1.5               g                        NaN   \n3  ...              0.0               g                        NaN   \n4  ...              0.0               g                        NaN   \n\n  Monounsaturated Fat_units Polyunsaturated Fat_values  \\\n0                       NaN                        NaN   \n1                       NaN                        NaN   \n2                       NaN                        NaN   \n3                       NaN                        NaN   \n4                       NaN                        NaN   \n\n  Polyunsaturated Fat_units Caffeine_values Caffeine_units  \\\n0                       NaN             NaN            NaN   \n1                       NaN             NaN            NaN   \n2                       NaN             NaN            NaN   \n3                       NaN             NaN            NaN   \n4                       NaN             0.0             mg   \n\n  Omega- Fatty Acids_values Omega- Fatty Acids_units  \n0                       NaN                      NaN  \n1                       NaN                      NaN  \n2                       NaN                      NaN  \n3                       NaN                      NaN  \n4                       NaN                      NaN  \n\n[5 rows x 62 columns]",
      "text/html": "<div>\n<style scoped>\n    .dataframe tbody tr th:only-of-type {\n        vertical-align: middle;\n    }\n\n    .dataframe tbody tr th {\n        vertical-align: top;\n    }\n\n    .dataframe thead th {\n        text-align: right;\n    }\n</style>\n<table border=\"1\" class=\"dataframe\">\n  <thead>\n    <tr style=\"text-align: right;\">\n      <th></th>\n      <th>item_name</th>\n      <th>Alcohol</th>\n      <th>Calcium</th>\n      <th>Calories</th>\n      <th>Cholesterol</th>\n      <th>Dietary Fiber</th>\n      <th>Iron</th>\n      <th>Protein</th>\n      <th>Saturated Fat</th>\n      <th>Sodium</th>\n      <th>...</th>\n      <th>Trans Fat_values</th>\n      <th>Trans Fat_units</th>\n      <th>Monounsaturated Fat_values</th>\n      <th>Monounsaturated Fat_units</th>\n      <th>Polyunsaturated Fat_values</th>\n      <th>Polyunsaturated Fat_units</th>\n      <th>Caffeine_values</th>\n      <th>Caffeine_units</th>\n      <th>Omega- Fatty Acids_values</th>\n      <th>Omega- Fatty Acids_units</th>\n    </tr>\n  </thead>\n  <tbody>\n    <tr>\n      <th>0</th>\n      <td>Homestyle Bakes Cheesy Chicken Alfredo</td>\n      <td>0 g</td>\n      <td>150 mg</td>\n      <td>410</td>\n      <td>35 mg</td>\n      <td>3 g</td>\n      <td>3 mg</td>\n      <td>15 g</td>\n      <td>7 g</td>\n      <td>880 mg</td>\n      <td>...</td>\n      <td>0.0</td>\n      <td>g</td>\n      <td>NaN</td>\n      <td>NaN</td>\n      <td>NaN</td>\n      <td>NaN</td>\n      <td>NaN</td>\n      <td>NaN</td>\n      <td>NaN</td>\n      <td>NaN</td>\n    </tr>\n    <tr>\n      <th>1</th>\n      <td>Chicken Fingers Dinner, frozen</td>\n      <td>0 g</td>\n      <td>80 mg</td>\n      <td>479</td>\n      <td>50 mg</td>\n      <td>5 g</td>\n      <td>3 mg</td>\n      <td>17 g</td>\n      <td>4.5 g</td>\n      <td>700 mg</td>\n      <td>...</td>\n      <td>0.0</td>\n      <td>g</td>\n      <td>NaN</td>\n      <td>NaN</td>\n      <td>NaN</td>\n      <td>NaN</td>\n      <td>NaN</td>\n      <td>NaN</td>\n      <td>NaN</td>\n      <td>NaN</td>\n    </tr>\n    <tr>\n      <th>2</th>\n      <td>Original Fried Chicken, frozen</td>\n      <td>0 g</td>\n      <td>20 mg</td>\n      <td>330</td>\n      <td>75 mg</td>\n      <td>0.5 g</td>\n      <td>1 mg</td>\n      <td>24 g</td>\n      <td>5 g</td>\n      <td>890 mg</td>\n      <td>...</td>\n      <td>1.5</td>\n      <td>g</td>\n      <td>NaN</td>\n      <td>NaN</td>\n      <td>NaN</td>\n      <td>NaN</td>\n      <td>NaN</td>\n      <td>NaN</td>\n      <td>NaN</td>\n      <td>NaN</td>\n    </tr>\n    <tr>\n      <th>3</th>\n      <td>Vegetarian Cheesy Bean &amp; Rice Burrito</td>\n      <td>NaN</td>\n      <td>150 mg</td>\n      <td>410</td>\n      <td>5 mg</td>\n      <td>7 g</td>\n      <td>4 mg</td>\n      <td>10 g</td>\n      <td>4 g</td>\n      <td>880 mg</td>\n      <td>...</td>\n      <td>0.0</td>\n      <td>g</td>\n      <td>NaN</td>\n      <td>NaN</td>\n      <td>NaN</td>\n      <td>NaN</td>\n      <td>NaN</td>\n      <td>NaN</td>\n      <td>NaN</td>\n      <td>NaN</td>\n    </tr>\n    <tr>\n      <th>4</th>\n      <td>Green Goddess Cobb Salad, with Chicken &amp; Green...</td>\n      <td>0 g</td>\n      <td>NaN</td>\n      <td>550</td>\n      <td>290 mg</td>\n      <td>7 g</td>\n      <td>NaN</td>\n      <td>42 g</td>\n      <td>8 g</td>\n      <td>720 mg</td>\n      <td>...</td>\n      <td>0.0</td>\n      <td>g</td>\n      <td>NaN</td>\n      <td>NaN</td>\n      <td>NaN</td>\n      <td>NaN</td>\n      <td>0.0</td>\n      <td>mg</td>\n      <td>NaN</td>\n      <td>NaN</td>\n    </tr>\n  </tbody>\n</table>\n<p>5 rows × 62 columns</p>\n</div>"
     },
     "execution_count": 1,
     "metadata": {},
     "output_type": "execute_result"
    }
   ],
   "source": [
    "import pandas as pd\n",
    "import numpy as np\n",
    "import pathlib\n",
    "import datetime\n",
    "import requests\n",
    "import os\n",
    "\n",
    "from IPython.core.interactiveshell import InteractiveShell\n",
    "InteractiveShell.ast_node_interactivity = 'all'\n",
    "\n",
    "\n",
    "def convert_path(file_path):\n",
    "    fp = pathlib.PureWindowsPath(file_path).as_posix()\n",
    "\n",
    "    return fp\n",
    "\n",
    "\n",
    "def clean_units(df, col_list):\n",
    "    for col in col_list:\n",
    "        if col in list(df.columns):\n",
    "            df[col] = df[col].str.replace('< 1', '1')\n",
    "            df[col] = df[col].str.replace('<', '1')\n",
    "            df[f\"{col}_values\"] = df[col].str.split(' ').str[0].astype(float)\n",
    "            df[f\"{col}_units\"] = df[col].str.split(' ').str[1]\n",
    "\n",
    "    return df\n",
    "\n",
    "\n",
    "def nutrition_calcs(df, units='g', carb_ratio=4, protein_ratio=4,fat_ratio=9):\n",
    "    \n",
    "    df['protein_check'] = np.where(df['Protein_units'] == units, 0, 1)\n",
    "    df['carb_check'] = np.where(df['Total Carbohydrate_units'] == units, 0, 1)\n",
    "    df['fat_check'] = np.where(df['Total Fat_units'] == units, 0, 1)\n",
    "    df['carbs_calories'] = df['Total Carbohydrate_values'] * carb_ratio\n",
    "    df['protein_calories'] = df['Protein_values'] * protein_ratio\n",
    "    df['fat_calories'] = df['Total Fat_values'] * fat_ratio\n",
    "\n",
    "    df['f_c_p'] = df['carbs_calories'] + df['protein_calories'] + df['fat_calories']\n",
    "    df['pct_fat'] = df['fat_calories'] / df['f_c_p']\n",
    "    df['pct_carbs'] = df['carbs_calories'] / df['f_c_p']\n",
    "    df['pct_protein'] = df['protein_calories'] / df['f_c_p']\n",
    "\n",
    "    return df\n",
    "\n",
    "\n",
    "def indicator_calcs(df, df_col, nutrition_ratio,variance_lower=0.05,variance_higher=0.05):\n",
    "    variance_higher_calcs = (nutrition_ratio + variance_higher)\n",
    "    variance_lower_calcs = (nutrition_ratio - variance_lower)\n",
    "\n",
    "    return np.where(df[df_col].between(variance_lower_calcs,variance_higher_calcs,inclusive=True),1,0)\n",
    "\n",
    "food_data_path = convert_path(r\"C:\\Users\\CDT - Admin\\PycharmProjects\\AP_Apple_Meal_Recommendations\\CalorieKing_Dataset_Cleaned_20210128 (1).csv\")\n",
    "\n",
    "# List select columns that we want to clean\n",
    "col_list = ['Alcohol','Calcium','Cholesterol','Dietary Fiber','Iron',\n",
    "            'Protein','Saturated Fat','Sodium','Sugars','Total Carbohydrate',\n",
    "            'Total Fat','Vitamin A','Vitamin C','Potassium','Trans Fat','Monounsaturated Fat',\n",
    "           'Polyunsaturated Fat','Omega- Fatty Acids','Caffeine']\n",
    "\n",
    "food_df = pd.read_csv(food_data_path)\n",
    "\n",
    "# Clean the units from the data and add the cleaned columns to the dataset so we can work with the numeric values\n",
    "food_df = clean_units(food_df,col_list)\n",
    "\n",
    "food_df.shape\n",
    "food_df.head()\n"
   ]
  },
  {
   "cell_type": "code",
   "execution_count": 2,
   "outputs": [],
   "source": [
    "item_addition_df = pd.read_csv(convert_path(r\"C:\\Users\\CDT - Admin\\Downloads\\Item_addition_20210322.csv\"))\n",
    "item_addition_df = clean_units(item_addition_df,col_list)\n",
    "\n",
    "food_df = pd.concat([food_df,item_addition_df],axis=0)"
   ],
   "metadata": {
    "collapsed": false,
    "pycharm": {
     "name": "#%%\n"
    }
   }
  },
  {
   "cell_type": "code",
   "execution_count": 3,
   "outputs": [],
   "source": [
    "food_df.to_csv('CalorieKing_Data_Cleaned.csv',index=False)"
   ],
   "metadata": {
    "collapsed": false,
    "pycharm": {
     "name": "#%%\n"
    }
   }
  },
  {
   "cell_type": "code",
   "execution_count": 4,
   "outputs": [],
   "source": [
    "nutr_df = nutrition_calcs(df=food_df)\n",
    "\n",
    "nutr_df['fat_indicator'] = indicator_calcs(df=nutr_df,df_col='pct_fat',nutrition_ratio=0.30)\n",
    "nutr_df['carbs_indicator'] = indicator_calcs(df=nutr_df,df_col='pct_carbs',nutrition_ratio=0.55)\n",
    "nutr_df['protein_indicator'] = indicator_calcs(df=nutr_df,df_col='pct_protein',nutrition_ratio=0.15)\n",
    "nutr_df['indicator_sum'] = np.sum(nutr_df[['fat_indicator','carbs_indicator','protein_indicator']],axis=1)\n",
    "\n",
    "nutr_df.to_csv('ap_apple_nutrition_calculations.csv',index=False)"
   ],
   "metadata": {
    "collapsed": false,
    "pycharm": {
     "name": "#%%\n"
    }
   }
  },
  {
   "cell_type": "code",
   "execution_count": 5,
   "outputs": [
    {
     "data": {
      "text/plain": "                     Brand Name                        Meal Type  \\\n59                       Kroger        Energy/Nutritional Drinks   \n493                   Food Lion                            Soups   \n504                   Food Lion                     Frozen Meals   \n506                   Food Lion                    Frozen Pizzas   \n517                   Food Lion                            Soups   \n521                   Food Lion                   Packaged Meals   \n523                   Food Lion                    Frozen Pizzas   \n539                   Food Lion             Milk & Flavored Milk   \n541                   Food Lion                    Frozen Pizzas   \n543                   Food Lion  Breakfast Cereals, Ready To Eat   \n547                   Food Lion                    Frozen Pizzas   \n555                   Food Lion                            Soups   \n590                   Food Lion                    Frozen Pizzas   \n605                   Food Lion                     Frozen Meals   \n613                   Food Lion                   Packaged Meals   \n694                   Food Lion                     Canned Meals   \n704                   Food Lion                            Soups   \n711                   Food Lion                     Frozen Meals   \n738                   Food Lion                    Frozen Pizzas   \n751                   Food Lion                   Packaged Meals   \n754                   Food Lion                     Frozen Meals   \n775                   Food Lion                            Soups   \n848                       Amy's                     Frozen Meals   \n849                       Amy's                     Frozen Meals   \n860                     Banquet                     Frozen Meals   \n861                     Banquet                     Frozen Meals   \n862                     Banquet                     Frozen Meals   \n871                        EVOL                     Frozen Meals   \n883                      Devour                     Frozen Meals   \n895                      Devour                     Frozen Meals   \n908   Macaroni & Cheese (Kraft)                   Packaged Meals   \n986                Lean Cuisine                     Frozen Meals   \n1004               Trader Joe's                     Frozen Meals   \n1015               Trader Joe's                   Packaged Meals   \n1022                Oscar Mayer                   Packaged Meals   \n1025                Oscar Mayer                   Packaged Meals   \n1026                Oscar Mayer                   Packaged Meals   \n0                     Birds Eye                     Frozen Meals   \n2                     Birds Eye                     Frozen Meals   \n4                     Birds Eye                     Frozen Meals   \n8                     Birds Eye                     Frozen Meals   \n9                     Birds Eye                     Frozen Meals   \n19                    Birds Eye                     Frozen Meals   \n20                    Birds Eye                     Frozen Meals   \n21                    Birds Eye                     Frozen Meals   \n32                    Birds Eye                     Frozen Meals   \n35                    Birds Eye                     Frozen Meals   \n51                    Birds Eye                     Frozen Meals   \n\n                                              item_name  Calories  \\\n59                 Fortify Plus Vanilla Nutrition Shake       350   \n493              Chicken & Stars Condensed Soup, canned        70   \n504                       Chicken Sandwich, Hot & Spicy       420   \n506                  Bake & Rise Crust Pizza, Pepperoni       320   \n517                       Condensed Chicken Noodle Soup        60   \n521   Deluxe Shells & Cheddar Dinner With Cheddar Ch...       370   \n523               Microwaveable Crispy Thin Crust Pizza       360   \n539                                      Chocolate Milk       210   \n541                     Supreme Crispy Thin Crust Pizza       350   \n543   Granola, Old-Fashioned Rolled Oats, Protein Oa...       420   \n547                  The Grillmaster, Bbq Chicken Pizza       340   \n555               Classic Condensed Chicken Noodle Soup        70   \n590                     Crispy Thin Crust Pizza, Cheese       360   \n605                    Breaded Chicken Sandwich, frozen       410   \n613      Deluxe Macaroni & Cheese Dinner, Sharp Cheddar       330   \n694        Beef Ravioli, In Tomato & Meat Sauce, canned       220   \n704                     Condensed Cream Of Chicken Soup        70   \n711            Stuffed Sandwiches, Ham & Cheese, frozen       320   \n738                 Four Cheese Bake & Rise Crust Pizza       300   \n751           Deluxe Macaroni & Cheese Dinner, Original       330   \n754                        Mini Pizza Bagels, Pepperoni        53   \n775   Mini Beef Ravioli, In Tomato & Meat Sauce, canned       220   \n848                       Bean & Cheese Burrito, frozen       310   \n849   Light in Sodium Black Bean Vegetable Enchilada...       160   \n860                   Boneless Pork Ribs Dinner, frozen       320   \n861             Lasagna, with Meat Sauce Dinner, frozen       250   \n862                        Sweet & Sour Chicken, frozen       390   \n871                        Egg & Potato Burrito, frozen       440   \n883                           Chicken & Waffles, frozen       620   \n895                           Chicken & Waffles, frozen       620   \n908   Deluxe Original Cheddar Macaroni & Cheese Dinn...       320   \n986   Origins, Linguine with Ricotta & Spinach Meatl...       280   \n1004                        Black Bean & Cheese Taquito       190   \n1015          Macaroni and Cheese, prepared as directed       360   \n1022  Pizza Lunchables with Pepperoni & Capri Sun Fr...       420   \n1025  Turkey & Cheddar Cheese Sub Sandwich Lunchable...       240   \n1026  Ham & American Cheese Sub Sandwich Lunchables ...       250   \n0                   Voila!, Garlic Chicken Meal, frozen       144   \n2           Steamfresh, Asian Medley Vegetables, frozen        56   \n4        Steamfresh, Broccoli with Cheese Sauce, frozen        51   \n8            Pearl Onions in A Real Cream Sauce, frozen        96   \n9     Steamfresh, Rotini & Vegetables with Garlic Bu...        63   \n19        Voila!, Beef & Broccoli Stir Fry Meal, frozen       120   \n20    Steamfresh, Marsala Vegetables with Wine Butte...        66   \n21    Steamfresh, Broccoli, Cauliflower & Carrots wi...        69   \n32    Steamfresh, Penne & Vegetables with Alfredo Sa...       105   \n35    Steamfresh, Italian Green Beans with Garlic Pa...       120   \n51                   Voila!, Garlic Shrimp Meal, frozen       120   \n\n      Protein_values  Total Fat_values  Total Carbohydrate_values  \\\n59              13.0              11.0                       50.0   \n493              3.0               2.0                       10.0   \n504             18.0              15.0                       53.0   \n506             13.0              12.0                       40.0   \n517              3.0               2.0                        9.0   \n521             11.0              13.0                       52.0   \n523             13.0              13.0                       49.0   \n539              8.0               8.0                       27.0   \n541             10.0              13.0                       47.0   \n543             20.0              12.0                       60.0   \n547             15.0              11.0                       45.0   \n555              3.0               2.0                        9.0   \n590             13.0              13.0                       49.0   \n605             18.0              13.0                       54.0   \n613             12.0               9.0                       48.0   \n694              7.0               7.0                       31.0   \n704              3.0               2.5                        9.0   \n711             11.0              12.0                       40.0   \n738             13.0               9.0                       40.0   \n751             11.0              10.0                       47.0   \n754              2.5               1.5                        7.3   \n775              7.0               7.0                       32.0   \n848             11.0               9.0                       46.0   \n849              5.0               6.0                       22.0   \n860             15.0              11.0                       42.0   \n861             12.0               7.0                       34.0   \n862             10.0              14.0                       56.0   \n871             17.0              13.0                       63.0   \n883             24.0              21.0                       83.0   \n895             24.0              21.0                       83.0   \n908             12.0              10.0                       45.0   \n986             11.0               8.0                       40.0   \n1004             5.0               7.0                       26.0   \n1015            11.0              13.0                       49.0   \n1022            16.0              14.0                       60.0   \n1025            10.0               7.0                       35.0   \n1026            11.0               7.0                       34.0   \n0                6.6               4.8                       17.4   \n2                1.9               2.0                        6.7   \n4                1.6               1.8                        6.0   \n8                2.5               3.4                       12.8   \n9                1.7               2.1                        9.4   \n19               5.7               3.4                       15.5   \n20               2.7               2.7                        9.3   \n21               1.7               2.4                        9.1   \n32               3.5               3.3                       14.7   \n35               4.0               3.0                       14.0   \n51               4.5               4.5                       15.0   \n\n      carbs_calories  protein_calories  fat_calories  f_c_p   pct_fat  \\\n59             200.0              52.0          99.0  351.0  0.282051   \n493             40.0              12.0          18.0   70.0  0.257143   \n504            212.0              72.0         135.0  419.0  0.322196   \n506            160.0              52.0         108.0  320.0  0.337500   \n517             36.0              12.0          18.0   66.0  0.272727   \n521            208.0              44.0         117.0  369.0  0.317073   \n523            196.0              52.0         117.0  365.0  0.320548   \n539            108.0              32.0          72.0  212.0  0.339623   \n541            188.0              40.0         117.0  345.0  0.339130   \n543            240.0              80.0         108.0  428.0  0.252336   \n547            180.0              60.0          99.0  339.0  0.292035   \n555             36.0              12.0          18.0   66.0  0.272727   \n590            196.0              52.0         117.0  365.0  0.320548   \n605            216.0              72.0         117.0  405.0  0.288889   \n613            192.0              48.0          81.0  321.0  0.252336   \n694            124.0              28.0          63.0  215.0  0.293023   \n704             36.0              12.0          22.5   70.5  0.319149   \n711            160.0              44.0         108.0  312.0  0.346154   \n738            160.0              52.0          81.0  293.0  0.276451   \n751            188.0              44.0          90.0  322.0  0.279503   \n754             29.2              10.0          13.5   52.7  0.256167   \n775            128.0              28.0          63.0  219.0  0.287671   \n848            184.0              44.0          81.0  309.0  0.262136   \n849             88.0              20.0          54.0  162.0  0.333333   \n860            168.0              60.0          99.0  327.0  0.302752   \n861            136.0              48.0          63.0  247.0  0.255061   \n862            224.0              40.0         126.0  390.0  0.323077   \n871            252.0              68.0         117.0  437.0  0.267735   \n883            332.0              96.0         189.0  617.0  0.306321   \n895            332.0              96.0         189.0  617.0  0.306321   \n908            180.0              48.0          90.0  318.0  0.283019   \n986            160.0              44.0          72.0  276.0  0.260870   \n1004           104.0              20.0          63.0  187.0  0.336898   \n1015           196.0              44.0         117.0  357.0  0.327731   \n1022           240.0              64.0         126.0  430.0  0.293023   \n1025           140.0              40.0          63.0  243.0  0.259259   \n1026           136.0              44.0          63.0  243.0  0.259259   \n0               69.6              26.4          43.2  139.2  0.310345   \n2               26.8               7.6          18.0   52.4  0.343511   \n4               24.0               6.4          16.2   46.6  0.347639   \n8               51.2              10.0          30.6   91.8  0.333333   \n9               37.6               6.8          18.9   63.3  0.298578   \n19              62.0              22.8          30.6  115.4  0.265165   \n20              37.2              10.8          24.3   72.3  0.336100   \n21              36.4               6.8          21.6   64.8  0.333333   \n32              58.8              14.0          29.7  102.5  0.289756   \n35              56.0              16.0          27.0   99.0  0.272727   \n51              60.0              18.0          40.5  118.5  0.341772   \n\n      pct_carbs  pct_protein  \\\n59     0.569801     0.148148   \n493    0.571429     0.171429   \n504    0.505967     0.171838   \n506    0.500000     0.162500   \n517    0.545455     0.181818   \n521    0.563686     0.119241   \n523    0.536986     0.142466   \n539    0.509434     0.150943   \n541    0.544928     0.115942   \n543    0.560748     0.186916   \n547    0.530973     0.176991   \n555    0.545455     0.181818   \n590    0.536986     0.142466   \n605    0.533333     0.177778   \n613    0.598131     0.149533   \n694    0.576744     0.130233   \n704    0.510638     0.170213   \n711    0.512821     0.141026   \n738    0.546075     0.177474   \n751    0.583851     0.136646   \n754    0.554080     0.189753   \n775    0.584475     0.127854   \n848    0.595469     0.142395   \n849    0.543210     0.123457   \n860    0.513761     0.183486   \n861    0.550607     0.194332   \n862    0.574359     0.102564   \n871    0.576659     0.155606   \n883    0.538088     0.155592   \n895    0.538088     0.155592   \n908    0.566038     0.150943   \n986    0.579710     0.159420   \n1004   0.556150     0.106952   \n1015   0.549020     0.123249   \n1022   0.558140     0.148837   \n1025   0.576132     0.164609   \n1026   0.559671     0.181070   \n0      0.500000     0.189655   \n2      0.511450     0.145038   \n4      0.515021     0.137339   \n8      0.557734     0.108932   \n9      0.593997     0.107425   \n19     0.537262     0.197574   \n20     0.514523     0.149378   \n21     0.561728     0.104938   \n32     0.573659     0.136585   \n35     0.565657     0.161616   \n51     0.506329     0.151899   \n\n                                             Source URL  \n59    https://www.calorieking.com/us/en/foods/f/calo...  \n493   https://www.calorieking.com/us/en/foods/f/calo...  \n504   https://www.calorieking.com/us/en/foods/f/calo...  \n506   https://www.calorieking.com/us/en/foods/f/calo...  \n517   https://www.calorieking.com/us/en/foods/f/calo...  \n521   https://www.calorieking.com/us/en/foods/f/calo...  \n523   https://www.calorieking.com/us/en/foods/f/calo...  \n539   https://www.calorieking.com/us/en/foods/f/calo...  \n541   https://www.calorieking.com/us/en/foods/f/calo...  \n543   https://www.calorieking.com/us/en/foods/f/calo...  \n547   https://www.calorieking.com/us/en/foods/f/calo...  \n555   https://www.calorieking.com/us/en/foods/f/calo...  \n590   https://www.calorieking.com/us/en/foods/f/calo...  \n605   https://www.calorieking.com/us/en/foods/f/calo...  \n613   https://www.calorieking.com/us/en/foods/f/calo...  \n694   https://www.calorieking.com/us/en/foods/f/calo...  \n704   https://www.calorieking.com/us/en/foods/f/calo...  \n711   https://www.calorieking.com/us/en/foods/f/calo...  \n738   https://www.calorieking.com/us/en/foods/f/calo...  \n751   https://www.calorieking.com/us/en/foods/f/calo...  \n754   https://www.calorieking.com/us/en/foods/f/calo...  \n775   https://www.calorieking.com/us/en/foods/f/calo...  \n848   https://www.calorieking.com/us/en/foods/f/calo...  \n849   https://www.calorieking.com/us/en/foods/f/calo...  \n860   https://www.calorieking.com/us/en/foods/f/calo...  \n861   https://www.calorieking.com/us/en/foods/f/calo...  \n862   https://www.calorieking.com/us/en/foods/f/calo...  \n871   https://www.calorieking.com/us/en/foods/f/calo...  \n883   https://www.calorieking.com/us/en/foods/f/calo...  \n895   https://www.calorieking.com/us/en/foods/f/calo...  \n908   https://www.calorieking.com/us/en/foods/f/calo...  \n986   https://www.calorieking.com/us/en/foods/f/calo...  \n1004  https://www.calorieking.com/us/en/foods/f/calo...  \n1015  https://www.calorieking.com/us/en/foods/f/calo...  \n1022  https://www.calorieking.com/us/en/foods/f/calo...  \n1025  https://www.calorieking.com/us/en/foods/f/calo...  \n1026  https://www.calorieking.com/us/en/foods/f/calo...  \n0     https://www.calorieking.com/us/en/foods/f/calo...  \n2     https://www.calorieking.com/us/en/foods/f/calo...  \n4     https://www.calorieking.com/us/en/foods/f/calo...  \n8     https://www.calorieking.com/us/en/foods/f/calo...  \n9     https://www.calorieking.com/us/en/foods/f/calo...  \n19    https://www.calorieking.com/us/en/foods/f/calo...  \n20    https://www.calorieking.com/us/en/foods/f/calo...  \n21    https://www.calorieking.com/us/en/foods/f/calo...  \n32    https://www.calorieking.com/us/en/foods/f/calo...  \n35    https://www.calorieking.com/us/en/foods/f/calo...  \n51    https://www.calorieking.com/us/en/foods/f/calo...  ",
      "text/html": "<div>\n<style scoped>\n    .dataframe tbody tr th:only-of-type {\n        vertical-align: middle;\n    }\n\n    .dataframe tbody tr th {\n        vertical-align: top;\n    }\n\n    .dataframe thead th {\n        text-align: right;\n    }\n</style>\n<table border=\"1\" class=\"dataframe\">\n  <thead>\n    <tr style=\"text-align: right;\">\n      <th></th>\n      <th>Brand Name</th>\n      <th>Meal Type</th>\n      <th>item_name</th>\n      <th>Calories</th>\n      <th>Protein_values</th>\n      <th>Total Fat_values</th>\n      <th>Total Carbohydrate_values</th>\n      <th>carbs_calories</th>\n      <th>protein_calories</th>\n      <th>fat_calories</th>\n      <th>f_c_p</th>\n      <th>pct_fat</th>\n      <th>pct_carbs</th>\n      <th>pct_protein</th>\n      <th>Source URL</th>\n    </tr>\n  </thead>\n  <tbody>\n    <tr>\n      <th>59</th>\n      <td>Kroger</td>\n      <td>Energy/Nutritional Drinks</td>\n      <td>Fortify Plus Vanilla Nutrition Shake</td>\n      <td>350</td>\n      <td>13.0</td>\n      <td>11.0</td>\n      <td>50.0</td>\n      <td>200.0</td>\n      <td>52.0</td>\n      <td>99.0</td>\n      <td>351.0</td>\n      <td>0.282051</td>\n      <td>0.569801</td>\n      <td>0.148148</td>\n      <td>https://www.calorieking.com/us/en/foods/f/calo...</td>\n    </tr>\n    <tr>\n      <th>493</th>\n      <td>Food Lion</td>\n      <td>Soups</td>\n      <td>Chicken &amp; Stars Condensed Soup, canned</td>\n      <td>70</td>\n      <td>3.0</td>\n      <td>2.0</td>\n      <td>10.0</td>\n      <td>40.0</td>\n      <td>12.0</td>\n      <td>18.0</td>\n      <td>70.0</td>\n      <td>0.257143</td>\n      <td>0.571429</td>\n      <td>0.171429</td>\n      <td>https://www.calorieking.com/us/en/foods/f/calo...</td>\n    </tr>\n    <tr>\n      <th>504</th>\n      <td>Food Lion</td>\n      <td>Frozen Meals</td>\n      <td>Chicken Sandwich, Hot &amp; Spicy</td>\n      <td>420</td>\n      <td>18.0</td>\n      <td>15.0</td>\n      <td>53.0</td>\n      <td>212.0</td>\n      <td>72.0</td>\n      <td>135.0</td>\n      <td>419.0</td>\n      <td>0.322196</td>\n      <td>0.505967</td>\n      <td>0.171838</td>\n      <td>https://www.calorieking.com/us/en/foods/f/calo...</td>\n    </tr>\n    <tr>\n      <th>506</th>\n      <td>Food Lion</td>\n      <td>Frozen Pizzas</td>\n      <td>Bake &amp; Rise Crust Pizza, Pepperoni</td>\n      <td>320</td>\n      <td>13.0</td>\n      <td>12.0</td>\n      <td>40.0</td>\n      <td>160.0</td>\n      <td>52.0</td>\n      <td>108.0</td>\n      <td>320.0</td>\n      <td>0.337500</td>\n      <td>0.500000</td>\n      <td>0.162500</td>\n      <td>https://www.calorieking.com/us/en/foods/f/calo...</td>\n    </tr>\n    <tr>\n      <th>517</th>\n      <td>Food Lion</td>\n      <td>Soups</td>\n      <td>Condensed Chicken Noodle Soup</td>\n      <td>60</td>\n      <td>3.0</td>\n      <td>2.0</td>\n      <td>9.0</td>\n      <td>36.0</td>\n      <td>12.0</td>\n      <td>18.0</td>\n      <td>66.0</td>\n      <td>0.272727</td>\n      <td>0.545455</td>\n      <td>0.181818</td>\n      <td>https://www.calorieking.com/us/en/foods/f/calo...</td>\n    </tr>\n    <tr>\n      <th>521</th>\n      <td>Food Lion</td>\n      <td>Packaged Meals</td>\n      <td>Deluxe Shells &amp; Cheddar Dinner With Cheddar Ch...</td>\n      <td>370</td>\n      <td>11.0</td>\n      <td>13.0</td>\n      <td>52.0</td>\n      <td>208.0</td>\n      <td>44.0</td>\n      <td>117.0</td>\n      <td>369.0</td>\n      <td>0.317073</td>\n      <td>0.563686</td>\n      <td>0.119241</td>\n      <td>https://www.calorieking.com/us/en/foods/f/calo...</td>\n    </tr>\n    <tr>\n      <th>523</th>\n      <td>Food Lion</td>\n      <td>Frozen Pizzas</td>\n      <td>Microwaveable Crispy Thin Crust Pizza</td>\n      <td>360</td>\n      <td>13.0</td>\n      <td>13.0</td>\n      <td>49.0</td>\n      <td>196.0</td>\n      <td>52.0</td>\n      <td>117.0</td>\n      <td>365.0</td>\n      <td>0.320548</td>\n      <td>0.536986</td>\n      <td>0.142466</td>\n      <td>https://www.calorieking.com/us/en/foods/f/calo...</td>\n    </tr>\n    <tr>\n      <th>539</th>\n      <td>Food Lion</td>\n      <td>Milk &amp; Flavored Milk</td>\n      <td>Chocolate Milk</td>\n      <td>210</td>\n      <td>8.0</td>\n      <td>8.0</td>\n      <td>27.0</td>\n      <td>108.0</td>\n      <td>32.0</td>\n      <td>72.0</td>\n      <td>212.0</td>\n      <td>0.339623</td>\n      <td>0.509434</td>\n      <td>0.150943</td>\n      <td>https://www.calorieking.com/us/en/foods/f/calo...</td>\n    </tr>\n    <tr>\n      <th>541</th>\n      <td>Food Lion</td>\n      <td>Frozen Pizzas</td>\n      <td>Supreme Crispy Thin Crust Pizza</td>\n      <td>350</td>\n      <td>10.0</td>\n      <td>13.0</td>\n      <td>47.0</td>\n      <td>188.0</td>\n      <td>40.0</td>\n      <td>117.0</td>\n      <td>345.0</td>\n      <td>0.339130</td>\n      <td>0.544928</td>\n      <td>0.115942</td>\n      <td>https://www.calorieking.com/us/en/foods/f/calo...</td>\n    </tr>\n    <tr>\n      <th>543</th>\n      <td>Food Lion</td>\n      <td>Breakfast Cereals, Ready To Eat</td>\n      <td>Granola, Old-Fashioned Rolled Oats, Protein Oa...</td>\n      <td>420</td>\n      <td>20.0</td>\n      <td>12.0</td>\n      <td>60.0</td>\n      <td>240.0</td>\n      <td>80.0</td>\n      <td>108.0</td>\n      <td>428.0</td>\n      <td>0.252336</td>\n      <td>0.560748</td>\n      <td>0.186916</td>\n      <td>https://www.calorieking.com/us/en/foods/f/calo...</td>\n    </tr>\n    <tr>\n      <th>547</th>\n      <td>Food Lion</td>\n      <td>Frozen Pizzas</td>\n      <td>The Grillmaster, Bbq Chicken Pizza</td>\n      <td>340</td>\n      <td>15.0</td>\n      <td>11.0</td>\n      <td>45.0</td>\n      <td>180.0</td>\n      <td>60.0</td>\n      <td>99.0</td>\n      <td>339.0</td>\n      <td>0.292035</td>\n      <td>0.530973</td>\n      <td>0.176991</td>\n      <td>https://www.calorieking.com/us/en/foods/f/calo...</td>\n    </tr>\n    <tr>\n      <th>555</th>\n      <td>Food Lion</td>\n      <td>Soups</td>\n      <td>Classic Condensed Chicken Noodle Soup</td>\n      <td>70</td>\n      <td>3.0</td>\n      <td>2.0</td>\n      <td>9.0</td>\n      <td>36.0</td>\n      <td>12.0</td>\n      <td>18.0</td>\n      <td>66.0</td>\n      <td>0.272727</td>\n      <td>0.545455</td>\n      <td>0.181818</td>\n      <td>https://www.calorieking.com/us/en/foods/f/calo...</td>\n    </tr>\n    <tr>\n      <th>590</th>\n      <td>Food Lion</td>\n      <td>Frozen Pizzas</td>\n      <td>Crispy Thin Crust Pizza, Cheese</td>\n      <td>360</td>\n      <td>13.0</td>\n      <td>13.0</td>\n      <td>49.0</td>\n      <td>196.0</td>\n      <td>52.0</td>\n      <td>117.0</td>\n      <td>365.0</td>\n      <td>0.320548</td>\n      <td>0.536986</td>\n      <td>0.142466</td>\n      <td>https://www.calorieking.com/us/en/foods/f/calo...</td>\n    </tr>\n    <tr>\n      <th>605</th>\n      <td>Food Lion</td>\n      <td>Frozen Meals</td>\n      <td>Breaded Chicken Sandwich, frozen</td>\n      <td>410</td>\n      <td>18.0</td>\n      <td>13.0</td>\n      <td>54.0</td>\n      <td>216.0</td>\n      <td>72.0</td>\n      <td>117.0</td>\n      <td>405.0</td>\n      <td>0.288889</td>\n      <td>0.533333</td>\n      <td>0.177778</td>\n      <td>https://www.calorieking.com/us/en/foods/f/calo...</td>\n    </tr>\n    <tr>\n      <th>613</th>\n      <td>Food Lion</td>\n      <td>Packaged Meals</td>\n      <td>Deluxe Macaroni &amp; Cheese Dinner, Sharp Cheddar</td>\n      <td>330</td>\n      <td>12.0</td>\n      <td>9.0</td>\n      <td>48.0</td>\n      <td>192.0</td>\n      <td>48.0</td>\n      <td>81.0</td>\n      <td>321.0</td>\n      <td>0.252336</td>\n      <td>0.598131</td>\n      <td>0.149533</td>\n      <td>https://www.calorieking.com/us/en/foods/f/calo...</td>\n    </tr>\n    <tr>\n      <th>694</th>\n      <td>Food Lion</td>\n      <td>Canned Meals</td>\n      <td>Beef Ravioli, In Tomato &amp; Meat Sauce, canned</td>\n      <td>220</td>\n      <td>7.0</td>\n      <td>7.0</td>\n      <td>31.0</td>\n      <td>124.0</td>\n      <td>28.0</td>\n      <td>63.0</td>\n      <td>215.0</td>\n      <td>0.293023</td>\n      <td>0.576744</td>\n      <td>0.130233</td>\n      <td>https://www.calorieking.com/us/en/foods/f/calo...</td>\n    </tr>\n    <tr>\n      <th>704</th>\n      <td>Food Lion</td>\n      <td>Soups</td>\n      <td>Condensed Cream Of Chicken Soup</td>\n      <td>70</td>\n      <td>3.0</td>\n      <td>2.5</td>\n      <td>9.0</td>\n      <td>36.0</td>\n      <td>12.0</td>\n      <td>22.5</td>\n      <td>70.5</td>\n      <td>0.319149</td>\n      <td>0.510638</td>\n      <td>0.170213</td>\n      <td>https://www.calorieking.com/us/en/foods/f/calo...</td>\n    </tr>\n    <tr>\n      <th>711</th>\n      <td>Food Lion</td>\n      <td>Frozen Meals</td>\n      <td>Stuffed Sandwiches, Ham &amp; Cheese, frozen</td>\n      <td>320</td>\n      <td>11.0</td>\n      <td>12.0</td>\n      <td>40.0</td>\n      <td>160.0</td>\n      <td>44.0</td>\n      <td>108.0</td>\n      <td>312.0</td>\n      <td>0.346154</td>\n      <td>0.512821</td>\n      <td>0.141026</td>\n      <td>https://www.calorieking.com/us/en/foods/f/calo...</td>\n    </tr>\n    <tr>\n      <th>738</th>\n      <td>Food Lion</td>\n      <td>Frozen Pizzas</td>\n      <td>Four Cheese Bake &amp; Rise Crust Pizza</td>\n      <td>300</td>\n      <td>13.0</td>\n      <td>9.0</td>\n      <td>40.0</td>\n      <td>160.0</td>\n      <td>52.0</td>\n      <td>81.0</td>\n      <td>293.0</td>\n      <td>0.276451</td>\n      <td>0.546075</td>\n      <td>0.177474</td>\n      <td>https://www.calorieking.com/us/en/foods/f/calo...</td>\n    </tr>\n    <tr>\n      <th>751</th>\n      <td>Food Lion</td>\n      <td>Packaged Meals</td>\n      <td>Deluxe Macaroni &amp; Cheese Dinner, Original</td>\n      <td>330</td>\n      <td>11.0</td>\n      <td>10.0</td>\n      <td>47.0</td>\n      <td>188.0</td>\n      <td>44.0</td>\n      <td>90.0</td>\n      <td>322.0</td>\n      <td>0.279503</td>\n      <td>0.583851</td>\n      <td>0.136646</td>\n      <td>https://www.calorieking.com/us/en/foods/f/calo...</td>\n    </tr>\n    <tr>\n      <th>754</th>\n      <td>Food Lion</td>\n      <td>Frozen Meals</td>\n      <td>Mini Pizza Bagels, Pepperoni</td>\n      <td>53</td>\n      <td>2.5</td>\n      <td>1.5</td>\n      <td>7.3</td>\n      <td>29.2</td>\n      <td>10.0</td>\n      <td>13.5</td>\n      <td>52.7</td>\n      <td>0.256167</td>\n      <td>0.554080</td>\n      <td>0.189753</td>\n      <td>https://www.calorieking.com/us/en/foods/f/calo...</td>\n    </tr>\n    <tr>\n      <th>775</th>\n      <td>Food Lion</td>\n      <td>Soups</td>\n      <td>Mini Beef Ravioli, In Tomato &amp; Meat Sauce, canned</td>\n      <td>220</td>\n      <td>7.0</td>\n      <td>7.0</td>\n      <td>32.0</td>\n      <td>128.0</td>\n      <td>28.0</td>\n      <td>63.0</td>\n      <td>219.0</td>\n      <td>0.287671</td>\n      <td>0.584475</td>\n      <td>0.127854</td>\n      <td>https://www.calorieking.com/us/en/foods/f/calo...</td>\n    </tr>\n    <tr>\n      <th>848</th>\n      <td>Amy's</td>\n      <td>Frozen Meals</td>\n      <td>Bean &amp; Cheese Burrito, frozen</td>\n      <td>310</td>\n      <td>11.0</td>\n      <td>9.0</td>\n      <td>46.0</td>\n      <td>184.0</td>\n      <td>44.0</td>\n      <td>81.0</td>\n      <td>309.0</td>\n      <td>0.262136</td>\n      <td>0.595469</td>\n      <td>0.142395</td>\n      <td>https://www.calorieking.com/us/en/foods/f/calo...</td>\n    </tr>\n    <tr>\n      <th>849</th>\n      <td>Amy's</td>\n      <td>Frozen Meals</td>\n      <td>Light in Sodium Black Bean Vegetable Enchilada...</td>\n      <td>160</td>\n      <td>5.0</td>\n      <td>6.0</td>\n      <td>22.0</td>\n      <td>88.0</td>\n      <td>20.0</td>\n      <td>54.0</td>\n      <td>162.0</td>\n      <td>0.333333</td>\n      <td>0.543210</td>\n      <td>0.123457</td>\n      <td>https://www.calorieking.com/us/en/foods/f/calo...</td>\n    </tr>\n    <tr>\n      <th>860</th>\n      <td>Banquet</td>\n      <td>Frozen Meals</td>\n      <td>Boneless Pork Ribs Dinner, frozen</td>\n      <td>320</td>\n      <td>15.0</td>\n      <td>11.0</td>\n      <td>42.0</td>\n      <td>168.0</td>\n      <td>60.0</td>\n      <td>99.0</td>\n      <td>327.0</td>\n      <td>0.302752</td>\n      <td>0.513761</td>\n      <td>0.183486</td>\n      <td>https://www.calorieking.com/us/en/foods/f/calo...</td>\n    </tr>\n    <tr>\n      <th>861</th>\n      <td>Banquet</td>\n      <td>Frozen Meals</td>\n      <td>Lasagna, with Meat Sauce Dinner, frozen</td>\n      <td>250</td>\n      <td>12.0</td>\n      <td>7.0</td>\n      <td>34.0</td>\n      <td>136.0</td>\n      <td>48.0</td>\n      <td>63.0</td>\n      <td>247.0</td>\n      <td>0.255061</td>\n      <td>0.550607</td>\n      <td>0.194332</td>\n      <td>https://www.calorieking.com/us/en/foods/f/calo...</td>\n    </tr>\n    <tr>\n      <th>862</th>\n      <td>Banquet</td>\n      <td>Frozen Meals</td>\n      <td>Sweet &amp; Sour Chicken, frozen</td>\n      <td>390</td>\n      <td>10.0</td>\n      <td>14.0</td>\n      <td>56.0</td>\n      <td>224.0</td>\n      <td>40.0</td>\n      <td>126.0</td>\n      <td>390.0</td>\n      <td>0.323077</td>\n      <td>0.574359</td>\n      <td>0.102564</td>\n      <td>https://www.calorieking.com/us/en/foods/f/calo...</td>\n    </tr>\n    <tr>\n      <th>871</th>\n      <td>EVOL</td>\n      <td>Frozen Meals</td>\n      <td>Egg &amp; Potato Burrito, frozen</td>\n      <td>440</td>\n      <td>17.0</td>\n      <td>13.0</td>\n      <td>63.0</td>\n      <td>252.0</td>\n      <td>68.0</td>\n      <td>117.0</td>\n      <td>437.0</td>\n      <td>0.267735</td>\n      <td>0.576659</td>\n      <td>0.155606</td>\n      <td>https://www.calorieking.com/us/en/foods/f/calo...</td>\n    </tr>\n    <tr>\n      <th>883</th>\n      <td>Devour</td>\n      <td>Frozen Meals</td>\n      <td>Chicken &amp; Waffles, frozen</td>\n      <td>620</td>\n      <td>24.0</td>\n      <td>21.0</td>\n      <td>83.0</td>\n      <td>332.0</td>\n      <td>96.0</td>\n      <td>189.0</td>\n      <td>617.0</td>\n      <td>0.306321</td>\n      <td>0.538088</td>\n      <td>0.155592</td>\n      <td>https://www.calorieking.com/us/en/foods/f/calo...</td>\n    </tr>\n    <tr>\n      <th>895</th>\n      <td>Devour</td>\n      <td>Frozen Meals</td>\n      <td>Chicken &amp; Waffles, frozen</td>\n      <td>620</td>\n      <td>24.0</td>\n      <td>21.0</td>\n      <td>83.0</td>\n      <td>332.0</td>\n      <td>96.0</td>\n      <td>189.0</td>\n      <td>617.0</td>\n      <td>0.306321</td>\n      <td>0.538088</td>\n      <td>0.155592</td>\n      <td>https://www.calorieking.com/us/en/foods/f/calo...</td>\n    </tr>\n    <tr>\n      <th>908</th>\n      <td>Macaroni &amp; Cheese (Kraft)</td>\n      <td>Packaged Meals</td>\n      <td>Deluxe Original Cheddar Macaroni &amp; Cheese Dinn...</td>\n      <td>320</td>\n      <td>12.0</td>\n      <td>10.0</td>\n      <td>45.0</td>\n      <td>180.0</td>\n      <td>48.0</td>\n      <td>90.0</td>\n      <td>318.0</td>\n      <td>0.283019</td>\n      <td>0.566038</td>\n      <td>0.150943</td>\n      <td>https://www.calorieking.com/us/en/foods/f/calo...</td>\n    </tr>\n    <tr>\n      <th>986</th>\n      <td>Lean Cuisine</td>\n      <td>Frozen Meals</td>\n      <td>Origins, Linguine with Ricotta &amp; Spinach Meatl...</td>\n      <td>280</td>\n      <td>11.0</td>\n      <td>8.0</td>\n      <td>40.0</td>\n      <td>160.0</td>\n      <td>44.0</td>\n      <td>72.0</td>\n      <td>276.0</td>\n      <td>0.260870</td>\n      <td>0.579710</td>\n      <td>0.159420</td>\n      <td>https://www.calorieking.com/us/en/foods/f/calo...</td>\n    </tr>\n    <tr>\n      <th>1004</th>\n      <td>Trader Joe's</td>\n      <td>Frozen Meals</td>\n      <td>Black Bean &amp; Cheese Taquito</td>\n      <td>190</td>\n      <td>5.0</td>\n      <td>7.0</td>\n      <td>26.0</td>\n      <td>104.0</td>\n      <td>20.0</td>\n      <td>63.0</td>\n      <td>187.0</td>\n      <td>0.336898</td>\n      <td>0.556150</td>\n      <td>0.106952</td>\n      <td>https://www.calorieking.com/us/en/foods/f/calo...</td>\n    </tr>\n    <tr>\n      <th>1015</th>\n      <td>Trader Joe's</td>\n      <td>Packaged Meals</td>\n      <td>Macaroni and Cheese, prepared as directed</td>\n      <td>360</td>\n      <td>11.0</td>\n      <td>13.0</td>\n      <td>49.0</td>\n      <td>196.0</td>\n      <td>44.0</td>\n      <td>117.0</td>\n      <td>357.0</td>\n      <td>0.327731</td>\n      <td>0.549020</td>\n      <td>0.123249</td>\n      <td>https://www.calorieking.com/us/en/foods/f/calo...</td>\n    </tr>\n    <tr>\n      <th>1022</th>\n      <td>Oscar Mayer</td>\n      <td>Packaged Meals</td>\n      <td>Pizza Lunchables with Pepperoni &amp; Capri Sun Fr...</td>\n      <td>420</td>\n      <td>16.0</td>\n      <td>14.0</td>\n      <td>60.0</td>\n      <td>240.0</td>\n      <td>64.0</td>\n      <td>126.0</td>\n      <td>430.0</td>\n      <td>0.293023</td>\n      <td>0.558140</td>\n      <td>0.148837</td>\n      <td>https://www.calorieking.com/us/en/foods/f/calo...</td>\n    </tr>\n    <tr>\n      <th>1025</th>\n      <td>Oscar Mayer</td>\n      <td>Packaged Meals</td>\n      <td>Turkey &amp; Cheddar Cheese Sub Sandwich Lunchable...</td>\n      <td>240</td>\n      <td>10.0</td>\n      <td>7.0</td>\n      <td>35.0</td>\n      <td>140.0</td>\n      <td>40.0</td>\n      <td>63.0</td>\n      <td>243.0</td>\n      <td>0.259259</td>\n      <td>0.576132</td>\n      <td>0.164609</td>\n      <td>https://www.calorieking.com/us/en/foods/f/calo...</td>\n    </tr>\n    <tr>\n      <th>1026</th>\n      <td>Oscar Mayer</td>\n      <td>Packaged Meals</td>\n      <td>Ham &amp; American Cheese Sub Sandwich Lunchables ...</td>\n      <td>250</td>\n      <td>11.0</td>\n      <td>7.0</td>\n      <td>34.0</td>\n      <td>136.0</td>\n      <td>44.0</td>\n      <td>63.0</td>\n      <td>243.0</td>\n      <td>0.259259</td>\n      <td>0.559671</td>\n      <td>0.181070</td>\n      <td>https://www.calorieking.com/us/en/foods/f/calo...</td>\n    </tr>\n    <tr>\n      <th>0</th>\n      <td>Birds Eye</td>\n      <td>Frozen Meals</td>\n      <td>Voila!, Garlic Chicken Meal, frozen</td>\n      <td>144</td>\n      <td>6.6</td>\n      <td>4.8</td>\n      <td>17.4</td>\n      <td>69.6</td>\n      <td>26.4</td>\n      <td>43.2</td>\n      <td>139.2</td>\n      <td>0.310345</td>\n      <td>0.500000</td>\n      <td>0.189655</td>\n      <td>https://www.calorieking.com/us/en/foods/f/calo...</td>\n    </tr>\n    <tr>\n      <th>2</th>\n      <td>Birds Eye</td>\n      <td>Frozen Meals</td>\n      <td>Steamfresh, Asian Medley Vegetables, frozen</td>\n      <td>56</td>\n      <td>1.9</td>\n      <td>2.0</td>\n      <td>6.7</td>\n      <td>26.8</td>\n      <td>7.6</td>\n      <td>18.0</td>\n      <td>52.4</td>\n      <td>0.343511</td>\n      <td>0.511450</td>\n      <td>0.145038</td>\n      <td>https://www.calorieking.com/us/en/foods/f/calo...</td>\n    </tr>\n    <tr>\n      <th>4</th>\n      <td>Birds Eye</td>\n      <td>Frozen Meals</td>\n      <td>Steamfresh, Broccoli with Cheese Sauce, frozen</td>\n      <td>51</td>\n      <td>1.6</td>\n      <td>1.8</td>\n      <td>6.0</td>\n      <td>24.0</td>\n      <td>6.4</td>\n      <td>16.2</td>\n      <td>46.6</td>\n      <td>0.347639</td>\n      <td>0.515021</td>\n      <td>0.137339</td>\n      <td>https://www.calorieking.com/us/en/foods/f/calo...</td>\n    </tr>\n    <tr>\n      <th>8</th>\n      <td>Birds Eye</td>\n      <td>Frozen Meals</td>\n      <td>Pearl Onions in A Real Cream Sauce, frozen</td>\n      <td>96</td>\n      <td>2.5</td>\n      <td>3.4</td>\n      <td>12.8</td>\n      <td>51.2</td>\n      <td>10.0</td>\n      <td>30.6</td>\n      <td>91.8</td>\n      <td>0.333333</td>\n      <td>0.557734</td>\n      <td>0.108932</td>\n      <td>https://www.calorieking.com/us/en/foods/f/calo...</td>\n    </tr>\n    <tr>\n      <th>9</th>\n      <td>Birds Eye</td>\n      <td>Frozen Meals</td>\n      <td>Steamfresh, Rotini &amp; Vegetables with Garlic Bu...</td>\n      <td>63</td>\n      <td>1.7</td>\n      <td>2.1</td>\n      <td>9.4</td>\n      <td>37.6</td>\n      <td>6.8</td>\n      <td>18.9</td>\n      <td>63.3</td>\n      <td>0.298578</td>\n      <td>0.593997</td>\n      <td>0.107425</td>\n      <td>https://www.calorieking.com/us/en/foods/f/calo...</td>\n    </tr>\n    <tr>\n      <th>19</th>\n      <td>Birds Eye</td>\n      <td>Frozen Meals</td>\n      <td>Voila!, Beef &amp; Broccoli Stir Fry Meal, frozen</td>\n      <td>120</td>\n      <td>5.7</td>\n      <td>3.4</td>\n      <td>15.5</td>\n      <td>62.0</td>\n      <td>22.8</td>\n      <td>30.6</td>\n      <td>115.4</td>\n      <td>0.265165</td>\n      <td>0.537262</td>\n      <td>0.197574</td>\n      <td>https://www.calorieking.com/us/en/foods/f/calo...</td>\n    </tr>\n    <tr>\n      <th>20</th>\n      <td>Birds Eye</td>\n      <td>Frozen Meals</td>\n      <td>Steamfresh, Marsala Vegetables with Wine Butte...</td>\n      <td>66</td>\n      <td>2.7</td>\n      <td>2.7</td>\n      <td>9.3</td>\n      <td>37.2</td>\n      <td>10.8</td>\n      <td>24.3</td>\n      <td>72.3</td>\n      <td>0.336100</td>\n      <td>0.514523</td>\n      <td>0.149378</td>\n      <td>https://www.calorieking.com/us/en/foods/f/calo...</td>\n    </tr>\n    <tr>\n      <th>21</th>\n      <td>Birds Eye</td>\n      <td>Frozen Meals</td>\n      <td>Steamfresh, Broccoli, Cauliflower &amp; Carrots wi...</td>\n      <td>69</td>\n      <td>1.7</td>\n      <td>2.4</td>\n      <td>9.1</td>\n      <td>36.4</td>\n      <td>6.8</td>\n      <td>21.6</td>\n      <td>64.8</td>\n      <td>0.333333</td>\n      <td>0.561728</td>\n      <td>0.104938</td>\n      <td>https://www.calorieking.com/us/en/foods/f/calo...</td>\n    </tr>\n    <tr>\n      <th>32</th>\n      <td>Birds Eye</td>\n      <td>Frozen Meals</td>\n      <td>Steamfresh, Penne &amp; Vegetables with Alfredo Sa...</td>\n      <td>105</td>\n      <td>3.5</td>\n      <td>3.3</td>\n      <td>14.7</td>\n      <td>58.8</td>\n      <td>14.0</td>\n      <td>29.7</td>\n      <td>102.5</td>\n      <td>0.289756</td>\n      <td>0.573659</td>\n      <td>0.136585</td>\n      <td>https://www.calorieking.com/us/en/foods/f/calo...</td>\n    </tr>\n    <tr>\n      <th>35</th>\n      <td>Birds Eye</td>\n      <td>Frozen Meals</td>\n      <td>Steamfresh, Italian Green Beans with Garlic Pa...</td>\n      <td>120</td>\n      <td>4.0</td>\n      <td>3.0</td>\n      <td>14.0</td>\n      <td>56.0</td>\n      <td>16.0</td>\n      <td>27.0</td>\n      <td>99.0</td>\n      <td>0.272727</td>\n      <td>0.565657</td>\n      <td>0.161616</td>\n      <td>https://www.calorieking.com/us/en/foods/f/calo...</td>\n    </tr>\n    <tr>\n      <th>51</th>\n      <td>Birds Eye</td>\n      <td>Frozen Meals</td>\n      <td>Voila!, Garlic Shrimp Meal, frozen</td>\n      <td>120</td>\n      <td>4.5</td>\n      <td>4.5</td>\n      <td>15.0</td>\n      <td>60.0</td>\n      <td>18.0</td>\n      <td>40.5</td>\n      <td>118.5</td>\n      <td>0.341772</td>\n      <td>0.506329</td>\n      <td>0.151899</td>\n      <td>https://www.calorieking.com/us/en/foods/f/calo...</td>\n    </tr>\n  </tbody>\n</table>\n</div>"
     },
     "execution_count": 5,
     "metadata": {},
     "output_type": "execute_result"
    }
   ],
   "source": [
    "# Filter the data so it only shows meal options that meet all 3 criteria that were defined in the previous cell.\n",
    "\n",
    "meal_options_df = nutr_df.loc[nutr_df['indicator_sum'] == 3]\n",
    "\n",
    "# Create a new dataset that contains data for select columns that are needed so it is easier to work with\n",
    "meal_columns = ['Brand Name','Meal Type','item_name',\n",
    "                'Calories','Protein_values','Total Fat_values','Total Carbohydrate_values',\n",
    "                'carbs_calories','protein_calories','fat_calories','f_c_p',\n",
    "                'pct_fat','pct_carbs','pct_protein','Source URL']\n",
    "\n",
    "meal_recs_df = meal_options_df[meal_columns]\n",
    "meal_recs_df\n",
    "\n",
    "#meal_recs_df.to_csv('CriteriaMatch_All.csv',index=False)\n",
    "\n",
    "# CREATE A NON-FILTERED VERSION OF THE ABOVE DATASET\n",
    "#meal_recs_df2 = nutr_df[meal_columns]\n",
    "#meal_recs_df2.to_csv('Unfiltered_Recs_with_calcs.csv',index=False)"
   ],
   "metadata": {
    "collapsed": false,
    "pycharm": {
     "name": "#%%\n"
    }
   }
  },
  {
   "cell_type": "code",
   "execution_count": 8,
   "outputs": [
    {
     "data": {
      "text/plain": "    Brand Name     Meal Type                         item_name  Calories  \\\n504  Food Lion  Frozen Meals     Chicken Sandwich, Hot & Spicy       420   \n605  Food Lion  Frozen Meals  Breaded Chicken Sandwich, frozen       410   \n862    Banquet  Frozen Meals      Sweet & Sour Chicken, frozen       390   \n871       EVOL  Frozen Meals      Egg & Potato Burrito, frozen       440   \n\n     Protein_values  Total Fat_values  Total Carbohydrate_values  \\\n504            18.0              15.0                       53.0   \n605            18.0              13.0                       54.0   \n862            10.0              14.0                       56.0   \n871            17.0              13.0                       63.0   \n\n     carbs_calories  protein_calories  fat_calories  f_c_p   pct_fat  \\\n504           212.0              72.0         135.0  419.0  0.322196   \n605           216.0              72.0         117.0  405.0  0.288889   \n862           224.0              40.0         126.0  390.0  0.323077   \n871           252.0              68.0         117.0  437.0  0.267735   \n\n     pct_carbs  pct_protein                                         Source URL  \n504   0.505967     0.171838  https://www.calorieking.com/us/en/foods/f/calo...  \n605   0.533333     0.177778  https://www.calorieking.com/us/en/foods/f/calo...  \n862   0.574359     0.102564  https://www.calorieking.com/us/en/foods/f/calo...  \n871   0.576659     0.155606  https://www.calorieking.com/us/en/foods/f/calo...  ",
      "text/html": "<div>\n<style scoped>\n    .dataframe tbody tr th:only-of-type {\n        vertical-align: middle;\n    }\n\n    .dataframe tbody tr th {\n        vertical-align: top;\n    }\n\n    .dataframe thead th {\n        text-align: right;\n    }\n</style>\n<table border=\"1\" class=\"dataframe\">\n  <thead>\n    <tr style=\"text-align: right;\">\n      <th></th>\n      <th>Brand Name</th>\n      <th>Meal Type</th>\n      <th>item_name</th>\n      <th>Calories</th>\n      <th>Protein_values</th>\n      <th>Total Fat_values</th>\n      <th>Total Carbohydrate_values</th>\n      <th>carbs_calories</th>\n      <th>protein_calories</th>\n      <th>fat_calories</th>\n      <th>f_c_p</th>\n      <th>pct_fat</th>\n      <th>pct_carbs</th>\n      <th>pct_protein</th>\n      <th>Source URL</th>\n    </tr>\n  </thead>\n  <tbody>\n    <tr>\n      <th>504</th>\n      <td>Food Lion</td>\n      <td>Frozen Meals</td>\n      <td>Chicken Sandwich, Hot &amp; Spicy</td>\n      <td>420</td>\n      <td>18.0</td>\n      <td>15.0</td>\n      <td>53.0</td>\n      <td>212.0</td>\n      <td>72.0</td>\n      <td>135.0</td>\n      <td>419.0</td>\n      <td>0.322196</td>\n      <td>0.505967</td>\n      <td>0.171838</td>\n      <td>https://www.calorieking.com/us/en/foods/f/calo...</td>\n    </tr>\n    <tr>\n      <th>605</th>\n      <td>Food Lion</td>\n      <td>Frozen Meals</td>\n      <td>Breaded Chicken Sandwich, frozen</td>\n      <td>410</td>\n      <td>18.0</td>\n      <td>13.0</td>\n      <td>54.0</td>\n      <td>216.0</td>\n      <td>72.0</td>\n      <td>117.0</td>\n      <td>405.0</td>\n      <td>0.288889</td>\n      <td>0.533333</td>\n      <td>0.177778</td>\n      <td>https://www.calorieking.com/us/en/foods/f/calo...</td>\n    </tr>\n    <tr>\n      <th>862</th>\n      <td>Banquet</td>\n      <td>Frozen Meals</td>\n      <td>Sweet &amp; Sour Chicken, frozen</td>\n      <td>390</td>\n      <td>10.0</td>\n      <td>14.0</td>\n      <td>56.0</td>\n      <td>224.0</td>\n      <td>40.0</td>\n      <td>126.0</td>\n      <td>390.0</td>\n      <td>0.323077</td>\n      <td>0.574359</td>\n      <td>0.102564</td>\n      <td>https://www.calorieking.com/us/en/foods/f/calo...</td>\n    </tr>\n    <tr>\n      <th>871</th>\n      <td>EVOL</td>\n      <td>Frozen Meals</td>\n      <td>Egg &amp; Potato Burrito, frozen</td>\n      <td>440</td>\n      <td>17.0</td>\n      <td>13.0</td>\n      <td>63.0</td>\n      <td>252.0</td>\n      <td>68.0</td>\n      <td>117.0</td>\n      <td>437.0</td>\n      <td>0.267735</td>\n      <td>0.576659</td>\n      <td>0.155606</td>\n      <td>https://www.calorieking.com/us/en/foods/f/calo...</td>\n    </tr>\n  </tbody>\n</table>\n</div>"
     },
     "execution_count": 8,
     "metadata": {},
     "output_type": "execute_result"
    },
    {
     "name": "stdout",
     "output_type": "stream",
     "text": [
      "4\n"
     ]
    }
   ],
   "source": [
    "frozen_meals_df = meal_recs_df.loc[meal_recs_df['Meal Type'] == 'Frozen Meals']\n",
    "#frozen_meals_df = meal_recs_df\n",
    "calories_input = 468\n",
    "filter_bound = 1.20\n",
    "\n",
    "meal_recs_filtered = frozen_meals_df.loc[(frozen_meals_df['Calories'].between(calories_input/filter_bound,\n",
    "                                                                        calories_input*filter_bound,\n",
    "                                                                        inclusive=True))]\n",
    "meal_recs_filtered\n",
    "print(len(meal_recs_filtered))\n",
    "#meal_recs_filtered.to_csv('75105_meal_recs_2.csv',index=False)"
   ],
   "metadata": {
    "collapsed": false,
    "pycharm": {
     "name": "#%%\n"
    }
   }
  },
  {
   "cell_type": "code",
   "execution_count": 18,
   "outputs": [],
   "source": [
    "#meal_recs_filtered.to_csv('75106_meal_recs.csv',index=False)"
   ],
   "metadata": {
    "collapsed": false,
    "pycharm": {
     "name": "#%%\n"
    }
   }
  },
  {
   "cell_type": "code",
   "execution_count": 9,
   "outputs": [
    {
     "data": {
      "text/plain": "   Brand Name                  Meal Type  \\\n59     Kroger  Energy/Nutritional Drinks   \n\n                               item_name  Calories  Protein_values  \\\n59  Fortify Plus Vanilla Nutrition Shake       350            13.0   \n\n    Total Fat_values  Total Carbohydrate_values  carbs_calories  \\\n59              11.0                       50.0           200.0   \n\n    protein_calories  fat_calories  f_c_p   pct_fat  pct_carbs  pct_protein  \\\n59              52.0          99.0  351.0  0.282051   0.569801     0.148148   \n\n                                           Source URL  \n59  https://www.calorieking.com/us/en/foods/f/calo...  ",
      "text/html": "<div>\n<style scoped>\n    .dataframe tbody tr th:only-of-type {\n        vertical-align: middle;\n    }\n\n    .dataframe tbody tr th {\n        vertical-align: top;\n    }\n\n    .dataframe thead th {\n        text-align: right;\n    }\n</style>\n<table border=\"1\" class=\"dataframe\">\n  <thead>\n    <tr style=\"text-align: right;\">\n      <th></th>\n      <th>Brand Name</th>\n      <th>Meal Type</th>\n      <th>item_name</th>\n      <th>Calories</th>\n      <th>Protein_values</th>\n      <th>Total Fat_values</th>\n      <th>Total Carbohydrate_values</th>\n      <th>carbs_calories</th>\n      <th>protein_calories</th>\n      <th>fat_calories</th>\n      <th>f_c_p</th>\n      <th>pct_fat</th>\n      <th>pct_carbs</th>\n      <th>pct_protein</th>\n      <th>Source URL</th>\n    </tr>\n  </thead>\n  <tbody>\n    <tr>\n      <th>59</th>\n      <td>Kroger</td>\n      <td>Energy/Nutritional Drinks</td>\n      <td>Fortify Plus Vanilla Nutrition Shake</td>\n      <td>350</td>\n      <td>13.0</td>\n      <td>11.0</td>\n      <td>50.0</td>\n      <td>200.0</td>\n      <td>52.0</td>\n      <td>99.0</td>\n      <td>351.0</td>\n      <td>0.282051</td>\n      <td>0.569801</td>\n      <td>0.148148</td>\n      <td>https://www.calorieking.com/us/en/foods/f/calo...</td>\n    </tr>\n  </tbody>\n</table>\n</div>"
     },
     "execution_count": 9,
     "metadata": {},
     "output_type": "execute_result"
    }
   ],
   "source": [
    "meal_recs_df.loc[meal_recs_df['Brand Name'] == 'Kroger']"
   ],
   "metadata": {
    "collapsed": false,
    "pycharm": {
     "name": "#%%\n"
    }
   }
  },
  {
   "cell_type": "code",
   "execution_count": 10,
   "outputs": [
    {
     "data": {
      "text/plain": "array(['Kroger', 'Food Lion', \"Amy's\", 'Banquet', 'EVOL', 'Devour',\n       'Macaroni & Cheese (Kraft)', 'Lean Cuisine', \"Trader Joe's\",\n       'Oscar Mayer', 'Birds Eye'], dtype=object)"
     },
     "execution_count": 10,
     "metadata": {},
     "output_type": "execute_result"
    }
   ],
   "source": [
    "meal_options_df['Brand Name'].unique()"
   ],
   "metadata": {
    "collapsed": false,
    "pycharm": {
     "name": "#%%\n"
    }
   }
  },
  {
   "cell_type": "code",
   "execution_count": null,
   "outputs": [],
   "source": [],
   "metadata": {
    "collapsed": false,
    "pycharm": {
     "name": "#%%\n"
    }
   }
  }
 ],
 "metadata": {
  "kernelspec": {
   "display_name": "Python 3",
   "language": "python",
   "name": "python3"
  },
  "language_info": {
   "codemirror_mode": {
    "name": "ipython",
    "version": 2
   },
   "file_extension": ".py",
   "mimetype": "text/x-python",
   "name": "python",
   "nbconvert_exporter": "python",
   "pygments_lexer": "ipython2",
   "version": "2.7.6"
  }
 },
 "nbformat": 4,
 "nbformat_minor": 0
}