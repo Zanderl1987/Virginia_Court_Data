{
 "cells": [
  {
   "cell_type": "code",
   "execution_count": 45,
   "metadata": {
    "collapsed": true
   },
   "outputs": [],
   "source": [
    "import pandas as pd\n",
    "import numpy as np\n",
    "import pathlib\n",
    "import datetime\n",
    "\n",
    "from IPython.core.interactiveshell import InteractiveShell\n",
    "InteractiveShell.ast_node_interactivity = 'all'"
   ]
  },
  {
   "cell_type": "code",
   "execution_count": 21,
   "outputs": [],
   "source": [
    "def convert_path(fp):\n",
    "    return pathlib.PureWindowsPath(fp).as_posix()"
   ],
   "metadata": {
    "collapsed": false,
    "pycharm": {
     "name": "#%%\n"
    }
   }
  },
  {
   "cell_type": "code",
   "execution_count": 96,
   "outputs": [
    {
     "data": {
      "text/plain": "               Create_Daily_Basal_Profile (EST)  Basal_Profile_Request Length  \\\nSUBJECT NUMBER                                                                  \n77121                       2021-03-26 20:00:00                          3180   \n77122                       2021-03-26 20:30:00                          3210   \n77123                       2021-03-26 21:00:00                          3240   \n77124                       2021-03-26 21:30:00                          3270   \n77125                       2021-03-26 22:00:00                          3300   \n\n               PredictAdvisoryParams (EST) Create_Daily_SI_Params (EST)  \\\nSUBJECT NUMBER                                                            \n77121                  2021-03-26 06:30:00          2021-03-26 20:20:00   \n77122                  2021-03-26 06:45:00          2021-03-26 20:50:00   \n77123                  2021-03-26 07:00:00          2021-03-26 21:20:00   \n77124                  2021-03-26 07:15:00          2021-03-26 21:50:00   \n77125                  2021-03-26 07:30:00          2021-03-26 22:20:00   \n\n                SI_Params_Request Length Calculate_Engagement_Metric (EST)  \\\nSUBJECT NUMBER                                                               \n77121                               3200               2021-03-26 01:10:00   \n77122                               3230               2021-03-26 01:12:00   \n77123                               3260               2021-03-26 01:14:00   \n77124                               3290               2021-03-26 01:16:00   \n77125                               3320               2021-03-26 01:18:00   \n\n               Create_Daily_Basal_Profile (GMT) PredictAdvisoryParams (GMT)  \\\nSUBJECT NUMBER                                                                \n77121                       2021-03-27 01:00:00         2021-03-26 11:30:00   \n77122                       2021-03-27 01:30:00         2021-03-26 11:45:00   \n77123                       2021-03-27 02:00:00         2021-03-26 12:00:00   \n77124                       2021-03-27 02:30:00         2021-03-26 12:15:00   \n77125                       2021-03-27 03:00:00         2021-03-26 12:30:00   \n\n               Create_Daily_SI_Params (GMT) Create_Daily_Basal_Profile (EDT)  \\\nSUBJECT NUMBER                                                                 \n77121                   2021-03-27 01:20:00              2021-03-26 21:00:00   \n77122                   2021-03-27 01:50:00              2021-03-26 21:30:00   \n77123                   2021-03-27 02:20:00              2021-03-26 22:00:00   \n77124                   2021-03-27 02:50:00              2021-03-26 22:30:00   \n77125                   2021-03-27 03:20:00              2021-03-26 23:00:00   \n\n               PredictAdvisoryParams (EDT) Create_Daily_SI_Params (EDT)  \nSUBJECT NUMBER                                                           \n77121                  2021-03-26 07:30:00          2021-03-26 21:20:00  \n77122                  2021-03-26 07:45:00          2021-03-26 21:50:00  \n77123                  2021-03-26 08:00:00          2021-03-26 22:20:00  \n77124                  2021-03-26 08:15:00          2021-03-26 22:50:00  \n77125                  2021-03-26 08:30:00          2021-03-26 23:20:00  ",
      "text/html": "<div>\n<style scoped>\n    .dataframe tbody tr th:only-of-type {\n        vertical-align: middle;\n    }\n\n    .dataframe tbody tr th {\n        vertical-align: top;\n    }\n\n    .dataframe thead th {\n        text-align: right;\n    }\n</style>\n<table border=\"1\" class=\"dataframe\">\n  <thead>\n    <tr style=\"text-align: right;\">\n      <th></th>\n      <th>Create_Daily_Basal_Profile (EST)</th>\n      <th>Basal_Profile_Request Length</th>\n      <th>PredictAdvisoryParams (EST)</th>\n      <th>Create_Daily_SI_Params (EST)</th>\n      <th>SI_Params_Request Length</th>\n      <th>Calculate_Engagement_Metric (EST)</th>\n      <th>Create_Daily_Basal_Profile (GMT)</th>\n      <th>PredictAdvisoryParams (GMT)</th>\n      <th>Create_Daily_SI_Params (GMT)</th>\n      <th>Create_Daily_Basal_Profile (EDT)</th>\n      <th>PredictAdvisoryParams (EDT)</th>\n      <th>Create_Daily_SI_Params (EDT)</th>\n    </tr>\n    <tr>\n      <th>SUBJECT NUMBER</th>\n      <th></th>\n      <th></th>\n      <th></th>\n      <th></th>\n      <th></th>\n      <th></th>\n      <th></th>\n      <th></th>\n      <th></th>\n      <th></th>\n      <th></th>\n      <th></th>\n    </tr>\n  </thead>\n  <tbody>\n    <tr>\n      <th>77121</th>\n      <td>2021-03-26 20:00:00</td>\n      <td>3180</td>\n      <td>2021-03-26 06:30:00</td>\n      <td>2021-03-26 20:20:00</td>\n      <td>3200</td>\n      <td>2021-03-26 01:10:00</td>\n      <td>2021-03-27 01:00:00</td>\n      <td>2021-03-26 11:30:00</td>\n      <td>2021-03-27 01:20:00</td>\n      <td>2021-03-26 21:00:00</td>\n      <td>2021-03-26 07:30:00</td>\n      <td>2021-03-26 21:20:00</td>\n    </tr>\n    <tr>\n      <th>77122</th>\n      <td>2021-03-26 20:30:00</td>\n      <td>3210</td>\n      <td>2021-03-26 06:45:00</td>\n      <td>2021-03-26 20:50:00</td>\n      <td>3230</td>\n      <td>2021-03-26 01:12:00</td>\n      <td>2021-03-27 01:30:00</td>\n      <td>2021-03-26 11:45:00</td>\n      <td>2021-03-27 01:50:00</td>\n      <td>2021-03-26 21:30:00</td>\n      <td>2021-03-26 07:45:00</td>\n      <td>2021-03-26 21:50:00</td>\n    </tr>\n    <tr>\n      <th>77123</th>\n      <td>2021-03-26 21:00:00</td>\n      <td>3240</td>\n      <td>2021-03-26 07:00:00</td>\n      <td>2021-03-26 21:20:00</td>\n      <td>3260</td>\n      <td>2021-03-26 01:14:00</td>\n      <td>2021-03-27 02:00:00</td>\n      <td>2021-03-26 12:00:00</td>\n      <td>2021-03-27 02:20:00</td>\n      <td>2021-03-26 22:00:00</td>\n      <td>2021-03-26 08:00:00</td>\n      <td>2021-03-26 22:20:00</td>\n    </tr>\n    <tr>\n      <th>77124</th>\n      <td>2021-03-26 21:30:00</td>\n      <td>3270</td>\n      <td>2021-03-26 07:15:00</td>\n      <td>2021-03-26 21:50:00</td>\n      <td>3290</td>\n      <td>2021-03-26 01:16:00</td>\n      <td>2021-03-27 02:30:00</td>\n      <td>2021-03-26 12:15:00</td>\n      <td>2021-03-27 02:50:00</td>\n      <td>2021-03-26 22:30:00</td>\n      <td>2021-03-26 08:15:00</td>\n      <td>2021-03-26 22:50:00</td>\n    </tr>\n    <tr>\n      <th>77125</th>\n      <td>2021-03-26 22:00:00</td>\n      <td>3300</td>\n      <td>2021-03-26 07:30:00</td>\n      <td>2021-03-26 22:20:00</td>\n      <td>3320</td>\n      <td>2021-03-26 01:18:00</td>\n      <td>2021-03-27 03:00:00</td>\n      <td>2021-03-26 12:30:00</td>\n      <td>2021-03-27 03:20:00</td>\n      <td>2021-03-26 23:00:00</td>\n      <td>2021-03-26 08:30:00</td>\n      <td>2021-03-26 23:20:00</td>\n    </tr>\n  </tbody>\n</table>\n</div>"
     },
     "execution_count": 96,
     "metadata": {},
     "output_type": "execute_result"
    },
    {
     "data": {
      "text/plain": "(25, 12)"
     },
     "execution_count": 96,
     "metadata": {},
     "output_type": "execute_result"
    }
   ],
   "source": [
    "hours = pd.Timedelta(1, unit='h')\n",
    "\n",
    "time_table_path = convert_path(r\"C:\\Users\\CDT - Admin\\PycharmProjects\\DSS2_AWS\\CW_Schedules_time_table.csv\")\n",
    "device_IMEI_path = convert_path(r\"C:\\Users\\CDT - Admin\\PycharmProjects\\DSS2_AWS\\Device_IMEI_Tracking.csv\")\n",
    "profile_param_schedules_path = convert_path(r\"C:\\Users\\CDT - Admin\\PycharmProjects\\DSS2_AWS\\ProfileParamSchedules.csv\")\n",
    "\n",
    "\n",
    "device_df = pd.read_csv(device_IMEI_path,index_col='Participant ID')\n",
    "pps_df = pd.read_csv(profile_param_schedules_path,index_col='subject_id')\n",
    "\n",
    "\n",
    "time_table_df = pd.read_csv(time_table_path,index_col=\"SUBJECT NUMBER\")\n",
    "dt_cols_list = ['Create_Daily_Basal_Profile (EST)','PredictAdvisoryParams (EST)',\n",
    "                'Create_Daily_SI_Params (EST)','Calculate_Engagement_Metric (EST)']\n",
    "\n",
    "for c in dt_cols_list:\n",
    "    time_table_df[c] = pd.to_datetime(time_table_df[c])\n",
    "\n",
    "time_table_df['Create_Daily_Basal_Profile (GMT)'] = time_table_df['Create_Daily_Basal_Profile (EST)'] + (hours * 5)\n",
    "time_table_df['PredictAdvisoryParams (GMT)'] = time_table_df['PredictAdvisoryParams (EST)'] + (hours * 5)\n",
    "time_table_df['Create_Daily_SI_Params (GMT)'] = time_table_df['Create_Daily_SI_Params (EST)'] + (hours * 5)\n",
    "\n",
    "time_table_df['Create_Daily_Basal_Profile (EDT)'] = time_table_df['Create_Daily_Basal_Profile (EST)'] + hours\n",
    "time_table_df['PredictAdvisoryParams (EDT)'] = time_table_df['PredictAdvisoryParams (EST)'] + hours\n",
    "time_table_df['Create_Daily_SI_Params (EDT)'] = time_table_df['Create_Daily_SI_Params (EST)'] + hours\n",
    "\n",
    "\n",
    "time_table_df.tail()\n",
    "time_table_df.shape"
   ],
   "metadata": {
    "collapsed": false,
    "pycharm": {
     "name": "#%%\n"
    }
   }
  },
  {
   "cell_type": "code",
   "execution_count": 95,
   "outputs": [
    {
     "data": {
      "text/plain": "                 IMEI Number DiAs EZOI Number                    THING-ID\nParticipant ID                                                           \n77124           3.536260e+14          N5X_074  DSS2-77124-353626070749358\n77123           3.536260e+14          N5X_012  DSS2-77123-353626074747945\n77125           3.536260e+14          N5X_011  DSS2-77125-353626074539748\n77118           3.536260e+14          N5X_077  DSS2-77118-353626070749317\n77106           3.536260e+14          N5X_112  DSS2-77106-353626070754655",
      "text/html": "<div>\n<style scoped>\n    .dataframe tbody tr th:only-of-type {\n        vertical-align: middle;\n    }\n\n    .dataframe tbody tr th {\n        vertical-align: top;\n    }\n\n    .dataframe thead th {\n        text-align: right;\n    }\n</style>\n<table border=\"1\" class=\"dataframe\">\n  <thead>\n    <tr style=\"text-align: right;\">\n      <th></th>\n      <th>IMEI Number</th>\n      <th>DiAs EZOI Number</th>\n      <th>THING-ID</th>\n    </tr>\n    <tr>\n      <th>Participant ID</th>\n      <th></th>\n      <th></th>\n      <th></th>\n    </tr>\n  </thead>\n  <tbody>\n    <tr>\n      <th>77124</th>\n      <td>3.536260e+14</td>\n      <td>N5X_074</td>\n      <td>DSS2-77124-353626070749358</td>\n    </tr>\n    <tr>\n      <th>77123</th>\n      <td>3.536260e+14</td>\n      <td>N5X_012</td>\n      <td>DSS2-77123-353626074747945</td>\n    </tr>\n    <tr>\n      <th>77125</th>\n      <td>3.536260e+14</td>\n      <td>N5X_011</td>\n      <td>DSS2-77125-353626074539748</td>\n    </tr>\n    <tr>\n      <th>77118</th>\n      <td>3.536260e+14</td>\n      <td>N5X_077</td>\n      <td>DSS2-77118-353626070749317</td>\n    </tr>\n    <tr>\n      <th>77106</th>\n      <td>3.536260e+14</td>\n      <td>N5X_112</td>\n      <td>DSS2-77106-353626070754655</td>\n    </tr>\n  </tbody>\n</table>\n</div>"
     },
     "execution_count": 95,
     "metadata": {},
     "output_type": "execute_result"
    }
   ],
   "source": [
    "#time_table_df['Create_Daily_Basal_Profile (EST)'].dt.minute\n",
    "device_df.tail()"
   ],
   "metadata": {
    "collapsed": false,
    "pycharm": {
     "name": "#%%\n"
    }
   }
  },
  {
   "cell_type": "code",
   "execution_count": 97,
   "outputs": [
    {
     "data": {
      "text/plain": "'0 2 * * ? *'"
     },
     "execution_count": 97,
     "metadata": {},
     "output_type": "execute_result"
    }
   ],
   "source": [
    "subject_id = 77123\n",
    "thing_id = device_df.loc[subject_id]['THING-ID']\n",
    "\n",
    "test_cron = f\"{time_table_df.loc[subject_id]['Create_Daily_Basal_Profile (GMT)'].minute} {time_table_df.loc[subject_id]['Create_Daily_Basal_Profile (GMT)'].hour} * * ? *\"\n",
    "test_cron"
   ],
   "metadata": {
    "collapsed": false,
    "pycharm": {
     "name": "#%%\n"
    }
   }
  },
  {
   "cell_type": "code",
   "execution_count": null,
   "outputs": [],
   "source": [
    "\n",
    "engagement_metric_name = f\"DSS2_{subject_id}_Engagement_Metric_Schedule\"\n",
    "\n",
    "\n",
    "\n",
    "rule_input_string = {\"thing_id\": \"DSS2-{subject_id}-353626074539748\", \"subject_id\": \"77125\"}\n",
    "#rule_input_string = repr()\n",
    "print(rule_input_string)"
   ],
   "metadata": {
    "collapsed": false,
    "pycharm": {
     "name": "#%%\n"
    }
   }
  },
  {
   "cell_type": "code",
   "execution_count": 60,
   "outputs": [
    {
     "data": {
      "text/plain": "                                                             thing_id  \\\nsubject_id step_function                                                \n77101      Calculate_Engagement_Metric     DSS2-77101-353626070749234   \n           Create_Daily_BasalCrCf_Profile  DSS2-77101-353626070749234   \n           Create_Daily_Basal_Profile      DSS2-77101-353626070749234   \n           Create_Daily_SI_Params          DSS2-77101-353626070749234   \n           PredictAdvisoryParams           DSS2-77101-353626070749234   \n...                                                               ...   \n77125      Calculate_Engagement_Metric     DSS2-77125-353626074539748   \n           Create_Daily_BasalCrCf_Profile  DSS2-77125-353626074539748   \n           Create_Daily_Basal_Profile      DSS2-77125-353626074539748   \n           Create_Daily_SI_Params          DSS2-77125-353626074539748   \n           PredictAdvisoryParams           DSS2-77125-353626074539748   \n\n                                                                 cloud_watch_rule  \\\nsubject_id step_function                                                            \n77101      Calculate_Engagement_Metric      DSS2_77101_Engagement_Metric_Schedule   \n           Create_Daily_BasalCrCf_Profile   DSS2_77101_Profile_Parameter_Schedule   \n           Create_Daily_Basal_Profile             DSS2_77101_Daily_Basal_Schedule   \n           Create_Daily_SI_Params              DSS2_77101_Daily_SIParams_Schedule   \n           PredictAdvisoryParams           DSS2_77101_Advisory_Parameter_Schedule   \n...                                                                           ...   \n77125      Calculate_Engagement_Metric      DSS2_77125_Engagement_Metric_Schedule   \n           Create_Daily_BasalCrCf_Profile   DSS2_77125_Profile_Parameter_Schedule   \n           Create_Daily_Basal_Profile             DSS2_77125_Daily_Basal_Schedule   \n           Create_Daily_SI_Params              DSS2_77125_Daily_SIParams_Schedule   \n           PredictAdvisoryParams           DSS2_77125_Advisory_Parameter_Schedule   \n\n                                                     cron_expression  \\\nsubject_id step_function                                               \n77101      Calculate_Engagement_Metric                  30 5 * * ? *   \n           Create_Daily_BasalCrCf_Profile   0 13 ? Jan-June FRI 2021   \n           Create_Daily_Basal_Profile                   0 15 * * ? *   \n           Create_Daily_SI_Params                      20 15 * * ? *   \n           PredictAdvisoryParams                        30 6 * * ? *   \n...                                                              ...   \n77125      Calculate_Engagement_Metric                  18 6 * * ? *   \n           Create_Daily_BasalCrCf_Profile  30 13 ? Jan-June SAT 2021   \n           Create_Daily_Basal_Profile                    0 3 * * ? *   \n           Create_Daily_SI_Params                       20 3 * * ? *   \n           PredictAdvisoryParams                       30 12 * * ? *   \n\n                                                           schedule    status  \\\nsubject_id step_function                                                        \n77101      Calculate_Engagement_Metric           Every day 5:30 GMT  DISABLED   \n           Create_Daily_BasalCrCf_Profile    Every Friday 13:00 GMT  DISABLED   \n           Create_Daily_Basal_Profile           Every day 15:00 GMT  DISABLED   \n           Create_Daily_SI_Params               Every day 15:20 GMT  DISABLED   \n           PredictAdvisoryParams                 Every day 6:30 GMT  DISABLED   \n...                                                             ...       ...   \n77125      Calculate_Engagement_Metric          Every day 06:18 GMT      None   \n           Create_Daily_BasalCrCf_Profile  Every Saturday 13:30 GMT      None   \n           Create_Daily_Basal_Profile           Every day 03:00 GMT      None   \n           Create_Daily_SI_Params               Every day 03:20 GMT      None   \n           PredictAdvisoryParams                Every day 12:30 GMT      None   \n\n                                                                                       input  \\\nsubject_id step_function                                                                       \n77101      Calculate_Engagement_Metric     {\"thing_id\":\"DSS2-77101-353626070749234\", \"sub...   \n           Create_Daily_BasalCrCf_Profile  {\"thing_id\":\"DSS2-77101-353626070749234\", \"sub...   \n           Create_Daily_Basal_Profile      {\"thing_id\":\"DSS2-77101-353626070749234\", \"sub...   \n           Create_Daily_SI_Params          {\"thing_id\":\"DSS2-77101-353626070749234\", \"sub...   \n           PredictAdvisoryParams           {\"thing_id\":\"DSS2-77101-353626070749234\",\"subj...   \n...                                                                                      ...   \n77125      Calculate_Engagement_Metric     {\"thing_id\": \"DSS2-77125-353626074539748\", \"su...   \n           Create_Daily_BasalCrCf_Profile  {\"thing_id\":\"DSS2-77125-353626074539748\", \"sub...   \n           Create_Daily_Basal_Profile      {\"thing_id\":\"DSS2-77125-353626074539748\", \"sub...   \n           Create_Daily_SI_Params          {\"thing_id\":\"DSS2-77125-353626074539748\", \"sub...   \n           PredictAdvisoryParams           {\"thing_id\": \"DSS2-77125-353626074539748\", \"su...   \n\n                                                                                 description  \nsubject_id step_function                                                                      \n77101      Calculate_Engagement_Metric     thing_id:DSS2-77101-353626070749234 ; Schedule...  \n           Create_Daily_BasalCrCf_Profile  thing_id:DSS2-77101-353626070749234 ; Schedule...  \n           Create_Daily_Basal_Profile      thing_id:DSS2-77101-353626070749234 ; Schedule...  \n           Create_Daily_SI_Params          thing_id:DSS2-77101-353626070749234 ; Schedule...  \n           PredictAdvisoryParams           thing_id:DSS2-77101-353626070749234 ; Schedule...  \n...                                                                                      ...  \n77125      Calculate_Engagement_Metric     thing_id:DSS2-77125-353626074539748 ; Schedule...  \n           Create_Daily_BasalCrCf_Profile  thing_id:DSS2-77125-353626074539748 ; Schedule...  \n           Create_Daily_Basal_Profile      thing_id:DSS2-77125-353626074539748 ; Schedule...  \n           Create_Daily_SI_Params          thing_id:DSS2-77125-353626074539748 ; Schedule...  \n           PredictAdvisoryParams           thing_id:DSS2-77125-353626074539748 ; Schedule...  \n\n[100 rows x 7 columns]",
      "text/html": "<div>\n<style scoped>\n    .dataframe tbody tr th:only-of-type {\n        vertical-align: middle;\n    }\n\n    .dataframe tbody tr th {\n        vertical-align: top;\n    }\n\n    .dataframe thead th {\n        text-align: right;\n    }\n</style>\n<table border=\"1\" class=\"dataframe\">\n  <thead>\n    <tr style=\"text-align: right;\">\n      <th></th>\n      <th></th>\n      <th>thing_id</th>\n      <th>cloud_watch_rule</th>\n      <th>cron_expression</th>\n      <th>schedule</th>\n      <th>status</th>\n      <th>input</th>\n      <th>description</th>\n    </tr>\n    <tr>\n      <th>subject_id</th>\n      <th>step_function</th>\n      <th></th>\n      <th></th>\n      <th></th>\n      <th></th>\n      <th></th>\n      <th></th>\n      <th></th>\n    </tr>\n  </thead>\n  <tbody>\n    <tr>\n      <th rowspan=\"5\" valign=\"top\">77101</th>\n      <th>Calculate_Engagement_Metric</th>\n      <td>DSS2-77101-353626070749234</td>\n      <td>DSS2_77101_Engagement_Metric_Schedule</td>\n      <td>30 5 * * ? *</td>\n      <td>Every day 5:30 GMT</td>\n      <td>DISABLED</td>\n      <td>{\"thing_id\":\"DSS2-77101-353626070749234\", \"sub...</td>\n      <td>thing_id:DSS2-77101-353626070749234 ; Schedule...</td>\n    </tr>\n    <tr>\n      <th>Create_Daily_BasalCrCf_Profile</th>\n      <td>DSS2-77101-353626070749234</td>\n      <td>DSS2_77101_Profile_Parameter_Schedule</td>\n      <td>0 13 ? Jan-June FRI 2021</td>\n      <td>Every Friday 13:00 GMT</td>\n      <td>DISABLED</td>\n      <td>{\"thing_id\":\"DSS2-77101-353626070749234\", \"sub...</td>\n      <td>thing_id:DSS2-77101-353626070749234 ; Schedule...</td>\n    </tr>\n    <tr>\n      <th>Create_Daily_Basal_Profile</th>\n      <td>DSS2-77101-353626070749234</td>\n      <td>DSS2_77101_Daily_Basal_Schedule</td>\n      <td>0 15 * * ? *</td>\n      <td>Every day 15:00 GMT</td>\n      <td>DISABLED</td>\n      <td>{\"thing_id\":\"DSS2-77101-353626070749234\", \"sub...</td>\n      <td>thing_id:DSS2-77101-353626070749234 ; Schedule...</td>\n    </tr>\n    <tr>\n      <th>Create_Daily_SI_Params</th>\n      <td>DSS2-77101-353626070749234</td>\n      <td>DSS2_77101_Daily_SIParams_Schedule</td>\n      <td>20 15 * * ? *</td>\n      <td>Every day 15:20 GMT</td>\n      <td>DISABLED</td>\n      <td>{\"thing_id\":\"DSS2-77101-353626070749234\", \"sub...</td>\n      <td>thing_id:DSS2-77101-353626070749234 ; Schedule...</td>\n    </tr>\n    <tr>\n      <th>PredictAdvisoryParams</th>\n      <td>DSS2-77101-353626070749234</td>\n      <td>DSS2_77101_Advisory_Parameter_Schedule</td>\n      <td>30 6 * * ? *</td>\n      <td>Every day 6:30 GMT</td>\n      <td>DISABLED</td>\n      <td>{\"thing_id\":\"DSS2-77101-353626070749234\",\"subj...</td>\n      <td>thing_id:DSS2-77101-353626070749234 ; Schedule...</td>\n    </tr>\n    <tr>\n      <th>...</th>\n      <th>...</th>\n      <td>...</td>\n      <td>...</td>\n      <td>...</td>\n      <td>...</td>\n      <td>...</td>\n      <td>...</td>\n      <td>...</td>\n    </tr>\n    <tr>\n      <th rowspan=\"5\" valign=\"top\">77125</th>\n      <th>Calculate_Engagement_Metric</th>\n      <td>DSS2-77125-353626074539748</td>\n      <td>DSS2_77125_Engagement_Metric_Schedule</td>\n      <td>18 6 * * ? *</td>\n      <td>Every day 06:18 GMT</td>\n      <td>None</td>\n      <td>{\"thing_id\": \"DSS2-77125-353626074539748\", \"su...</td>\n      <td>thing_id:DSS2-77125-353626074539748 ; Schedule...</td>\n    </tr>\n    <tr>\n      <th>Create_Daily_BasalCrCf_Profile</th>\n      <td>DSS2-77125-353626074539748</td>\n      <td>DSS2_77125_Profile_Parameter_Schedule</td>\n      <td>30 13 ? Jan-June SAT 2021</td>\n      <td>Every Saturday 13:30 GMT</td>\n      <td>None</td>\n      <td>{\"thing_id\":\"DSS2-77125-353626074539748\", \"sub...</td>\n      <td>thing_id:DSS2-77125-353626074539748 ; Schedule...</td>\n    </tr>\n    <tr>\n      <th>Create_Daily_Basal_Profile</th>\n      <td>DSS2-77125-353626074539748</td>\n      <td>DSS2_77125_Daily_Basal_Schedule</td>\n      <td>0 3 * * ? *</td>\n      <td>Every day 03:00 GMT</td>\n      <td>None</td>\n      <td>{\"thing_id\":\"DSS2-77125-353626074539748\", \"sub...</td>\n      <td>thing_id:DSS2-77125-353626074539748 ; Schedule...</td>\n    </tr>\n    <tr>\n      <th>Create_Daily_SI_Params</th>\n      <td>DSS2-77125-353626074539748</td>\n      <td>DSS2_77125_Daily_SIParams_Schedule</td>\n      <td>20 3 * * ? *</td>\n      <td>Every day 03:20 GMT</td>\n      <td>None</td>\n      <td>{\"thing_id\":\"DSS2-77125-353626074539748\", \"sub...</td>\n      <td>thing_id:DSS2-77125-353626074539748 ; Schedule...</td>\n    </tr>\n    <tr>\n      <th>PredictAdvisoryParams</th>\n      <td>DSS2-77125-353626074539748</td>\n      <td>DSS2_77125_Advisory_Parameter_Schedule</td>\n      <td>30 12 * * ? *</td>\n      <td>Every day 12:30 GMT</td>\n      <td>None</td>\n      <td>{\"thing_id\": \"DSS2-77125-353626074539748\", \"su...</td>\n      <td>thing_id:DSS2-77125-353626074539748 ; Schedule...</td>\n    </tr>\n  </tbody>\n</table>\n<p>100 rows × 7 columns</p>\n</div>"
     },
     "execution_count": 60,
     "metadata": {},
     "output_type": "execute_result"
    }
   ],
   "source": [
    "#pps_df = pps_df.reset_index()\n",
    "\n",
    "pps_grouped = pps_df.groupby(by=['subject_id','step_function'])\n",
    "\n",
    "# Use .get_group(name of the group you want to retrieve data for) to return all data associated with a specific group\n",
    "# For example, you could return all data associated with the Engagement Metric step function for all instances in the dataframe\n",
    "# Might not work on datasets grouped by more than one category\n",
    "\n",
    "pps_grouped.first()"
   ],
   "metadata": {
    "collapsed": false,
    "pycharm": {
     "name": "#%%\n"
    }
   }
  },
  {
   "cell_type": "code",
   "execution_count": 84,
   "outputs": [
    {
     "data": {
      "text/plain": "subject_id\n77123    {\"thing_id\":\"DSS2-77125-353626074539748\", \"sub...\nName: input, dtype: object"
     },
     "execution_count": 84,
     "metadata": {},
     "output_type": "execute_result"
    }
   ],
   "source": [
    "# To slice into the groupby object with get_group(), give it a tuple containing the desired values\n",
    "# for each group level in the order that they occur (don't give it the group names or any filtering logic)\n",
    "# This will automatically filter the data and will allow you to return values of specific columns from the filtered data\n",
    "pps_grouped.get_group((77123,'Create_Daily_SI_Params'))['input']"
   ],
   "metadata": {
    "collapsed": false,
    "pycharm": {
     "name": "#%%\n"
    }
   }
  },
  {
   "cell_type": "code",
   "execution_count": 84,
   "outputs": [],
   "source": [],
   "metadata": {
    "collapsed": false,
    "pycharm": {
     "name": "#%%\n"
    }
   }
  },
  {
   "cell_type": "code",
   "execution_count": null,
   "outputs": [],
   "source": [],
   "metadata": {
    "collapsed": false,
    "pycharm": {
     "name": "#%%\n"
    }
   }
  }
 ],
 "metadata": {
  "kernelspec": {
   "display_name": "Python 3",
   "language": "python",
   "name": "python3"
  },
  "language_info": {
   "codemirror_mode": {
    "name": "ipython",
    "version": 2
   },
   "file_extension": ".py",
   "mimetype": "text/x-python",
   "name": "python",
   "nbconvert_exporter": "python",
   "pygments_lexer": "ipython2",
   "version": "2.7.6"
  }
 },
 "nbformat": 4,
 "nbformat_minor": 0
}